{
 "cells": [
  {
   "cell_type": "markdown",
   "metadata": {},
   "source": [
    "# Computer Project for TMA4215\n",
    "\n",
    "$$\n",
    "\\DeclareMathOperator{\\Div}{div}\n",
    "\\DeclareMathOperator{\\Grad}{grad}\n",
    "\\DeclareMathOperator{\\Curl}{curl}\n",
    "\\DeclareMathOperator{\\Rot}{rot}\n",
    "\\DeclareMathOperator{\\ord}{ord}\n",
    "\\DeclareMathOperator{\\Kern}{ker}\n",
    "\\DeclareMathOperator{\\Image}{im}\n",
    "\\DeclareMathOperator{\\spann}{span}\n",
    "\\DeclareMathOperator{\\rank}{rank}\n",
    "\\DeclareMathOperator{\\dist}{dist}\n",
    "\\DeclareMathOperator{\\diam}{diam}\n",
    "\\DeclareMathOperator{\\sig}{sig}\n",
    "\\DeclareMathOperator{\\Id}{Id}\n",
    "\\DeclareMathOperator{\\CQR}{CQR}\n",
    "\\DeclareMathOperator{\\QR}{QR}\n",
    "\\DeclareMathOperator{\\TR}{TR}\n",
    "\\DeclareMathOperator{\\CTR}{CTR}\n",
    "\\DeclareMathOperator{\\SR}{SR}\n",
    "\\DeclareMathOperator{\\CSR}{CSR}\n",
    "\\DeclareMathOperator{\\NCR}{NCR}\n",
    "\\DeclareMathOperator{\\MR}{MR}\n",
    "\\newcommand{\\RR}{\\mathbb{R}}\n",
    "\\newcommand{\\NN}{\\mathbb{N}}\n",
    "\\newcommand{\\VV}{\\mathbb{V}}\n",
    "\\newcommand{\\PP}{\\mathbb{P}}\n",
    "\\newcommand{\\dGamma}{\\,\\mathrm{d} \\Gamma}\n",
    "\\newcommand{\\dGammah}{\\,\\mathrm{d} \\Gamma_h}\n",
    "\\newcommand{\\dx}{\\,\\mathrm{d}x}\n",
    "\\newcommand{\\dy}{\\,\\mathrm{d}y}\n",
    "\\newcommand{\\ds}{\\,\\mathrm{d}s}\n",
    "\\newcommand{\\dt}{\\,\\mathrm{d}t}\n",
    "\\newcommand{\\dS}{\\,\\mathrm{d}S}\n",
    "\\newcommand{\\dV}{\\,\\mathrm{d}V}\n",
    "\\newcommand{\\dX}{\\,\\mathrm{d}X}\n",
    "\\newcommand{\\dY}{\\,\\mathrm{d}Y}\n",
    "\\newcommand{\\dE}{\\,\\mathrm{d}E}\n",
    "\\newcommand{\\dK}{\\,\\mathrm{d}K}\n",
    "\\newcommand{\\dM}{\\,\\mathrm{d}M}\n",
    "\\newcommand{\\cd}{\\mathrm{cd}}\n",
    "\\newcommand{\\onehalf}{\\frac{1}{2}}\n",
    "\\newcommand{\\bfP}{\\boldsymbol P}\n",
    "\\newcommand{\\bfx}{\\boldsymbol x}\n",
    "\\newcommand{\\bfy}{\\boldsymbol y}\n",
    "\\newcommand{\\bfa}{\\boldsymbol a}\n",
    "\\newcommand{\\bfu}{\\boldsymbol u}\n",
    "\\newcommand{\\bfv}{\\boldsymbol v}\n",
    "\\newcommand{\\bfe}{\\boldsymbol e}\n",
    "\\newcommand{\\bfb}{\\boldsymbol b}\n",
    "\\newcommand{\\bfc}{\\boldsymbol c}\n",
    "\\newcommand{\\bfq}{\\boldsymbol q}\n",
    "\\newcommand{\\bfy}{\\boldsymbol y}\n",
    "\\newcommand{\\bff}{\\boldsymbol f}\n",
    "\\newcommand{\\bfp}{\\boldsymbol p}\n",
    "\\newcommand{\\bft}{\\boldsymbol t}\n",
    "\\newcommand{\\bfj}{\\boldsymbol j}\n",
    "\\newcommand{\\bfB}{\\boldsymbol B}\n",
    "\\newcommand{\\bfV}{\\boldsymbol V}\n",
    "\\newcommand{\\bfE}{\\boldsymbol E}\n",
    "\\newcommand{\\bfB}{\\boldsymbol B}\n",
    "\\newcommand{\\bfzero}{\\boldsymbol 0}\n",
    "$$"
   ]
  },
  {
   "cell_type": "code",
   "execution_count": null,
   "metadata": {
    "collapsed": true
   },
   "outputs": [],
   "source": [
    "from IPython.core.display import HTML\n",
    "def css_styling():\n",
    "    styles = open(\"../../styles/tma4215.css\", \"r\").read()\n",
    "    return HTML(styles)\n",
    "\n",
    "# Comment out next line and execute this cell to restore the default notebook style \n",
    "#css_styling()"
   ]
  },
  {
   "cell_type": "markdown",
   "metadata": {},
   "source": [
    "## Part 1: The Poisson Equation\n",
    "\n",
    "\n",
    "### Chapter 2: Rising to 2 dimensions"
   ]
  },
  {
   "cell_type": "markdown",
   "metadata": {},
   "source": [
    "We consider the 2-dimenionsal equivalent of the two-point boundary value problem, known as the __Poisson problem__:\n",
    "\n",
    "Let $\\Omega = [0,1]\\times [0,1] \\subset \\RR^2$, and given\n",
    "a right-hand side (or source) function $f: \\Omega \\to  \\RR$\n",
    "and a boundary function $g: \\partial \\Omega \\to \\RR$.\n",
    "Here $\\partial \\Omega = \\{0\\} \\times [0,1] \\cup \\{1\\} \\times [0,1]\n",
    "\\cup [0,1]  \\times \\{0\\} \\cup [0,1]  \\times \\{1\\}$\n",
    "denotes the boudary of $\\Omega$. Then the task is to find\n",
    "$u: \\Omega \\to  \\RR$ such that\n",
    "$$\n",
    "\\begin{align}\n",
    "- \\Delta u  &= f \\quad \\text{in } \\Omega,\n",
    "\\tag{1a}\n",
    "\\\\\n",
    " u &= g \\quad \\text{on } \\partial \\Omega.\n",
    "\\tag{1b}\n",
    "\\end{align}\n",
    "$$"
   ]
  },
  {
   "cell_type": "markdown",
   "metadata": {},
   "source": [
    "### Finite Difference Method for the 2D Poisson problem\n",
    "\n",
    "Instead of trying to compute $u(x)$ exactly,\n",
    "we will try to compute a numerical approximation\n",
    "$u_{\\Delta}$ of $u(x)$. In 1D, we introduced $n+1$ equally space grid points on $[0,1]$. Since we are in 2D now, we apply the same procedure in every dimension and then create a 2D grid:\n",
    "\n",
    "* Subdivide the $x$-axis,\n",
    "and introduce $\\{x_i\\}_{i=0}^n$ with $x_i = i h$, $ h = \\tfrac{1}{n}$\n",
    "* Subdivide the $y$-axis,\n",
    "and introduce $\\{y_j\\}_{j=0}^n$ with $y_j = j h$\n",
    "* Define the $N = (n+1)^2$ grid points $\\{(x_i,y_j)\\}_{i,j=0}^{n}$.\n",
    "\n",
    "To each of the grid points $(x_i,y_j)$ we now assoicate\n",
    "an unknown $U_{i,j}$  for $i,j=0,\\ldots n $.\n",
    "\n",
    "An illustration for the case $n=3$ is shown below:"
   ]
  },
  {
   "cell_type": "markdown",
   "metadata": {},
   "source": [
    "<img src=\"figures/fdm-grid-1.png\" style=\"width:400px;height:410px\"/>"
   ]
  },
  {
   "cell_type": "markdown",
   "metadata": {},
   "source": [
    "To derive a system of equations for $U_{i,j}$, we take the same approach\n",
    "as for the two-point value problem, realizing that  $\\partial_x^2 u$ \n",
    "can be approximated by a central difference operator along the $x$-axis\n",
    "\\begin{align*}\n",
    "\\partial_x^+ \\partial_x^- u(x_i, y_j)\n",
    ":=  \\dfrac{u(x_{i+1}, y_j) - 2 u(x_i,y_j) + u(x_{i-1}, y_j)}\n",
    "{h^2}\n",
    "\\approx \\partial_x^2 u(x_i, y_j),\n",
    "\\end{align*}\n",
    "while keeping the $y$-variable fixed.\n",
    "\n",
    "The same goes the other way around; to approximate $\\partial_y^2 u$ at $(x_i,y_j)$, we use the central difference operator along the $y$-axis\n",
    "\\begin{align*}\n",
    "\\partial_y^+ \\partial_y^- u(x_i, y_j)\n",
    ":=  \\dfrac{u(x_{i}, y_{j+1}) - 2 u(x_i,y_j) + u(x_{i}, y_{j-1})}\n",
    "{h^2}\n",
    "\\approx \\partial_y^2 u(x_i, y_j),\n",
    "\\end{align*}\n",
    "while keeping the $x$-variable fixed.\n",
    "\n",
    "In total, we obtain that\n",
    "\\begin{align*}\n",
    "f(x_i,y_i) &=\n",
    "- \\Delta u(x_i, y_i) \n",
    "\\\\\n",
    "&\\approx\n",
    "-\\partial_x^+ \\partial_x^- u(x_i, y_j)\n",
    "-\n",
    "\\partial_y^+ \\partial_y^- u(x_i, y_j)\n",
    "\\\\\n",
    "&=  -\\dfrac{u(x_{i+1}, y_{j}) + u(x_{i}, y_{j+1}) - 4 u(x_i,y_j) + u(x_{i-1}, y_{j}) + u(x_{i}, y_{j-1})}\n",
    "{h^2}\n",
    "\\end{align*}\n",
    "\n",
    "Because of the index structure the finite difference operator $(\\partial_x^+ \\partial_x^- +  \\partial_y^+ \\partial_y^- )$ is also called __5-point stencil__."
   ]
  },
  {
   "cell_type": "markdown",
   "metadata": {},
   "source": [
    "#### Task 1\n",
    "Use Taylor expansion to show that\n",
    "for \n",
    "$u \\in C^4([0,1]^2)$\n",
    "\n",
    "$$\n",
    "\\max_{(x,y) \\in [0,1]^2} | (\\partial_x^+ \\partial_x^- +  \\partial_y^+ \\partial_y^- )u(x, y) - \\Delta u(x,y) |\n",
    "=\n",
    "\\mathcal{O}(h^2).\n",
    "$$"
   ]
  },
  {
   "cell_type": "markdown",
   "metadata": {},
   "source": [
    "<font color=\"blue\"> \n",
    "<b>Solution:</b><br>\n",
    "\n",
    "For $u(x, y) \\in C^4([0, 1])^2$, we get\n",
    "\n",
    "$$\n",
    "\\begin{equation}\n",
    "    \\begin{split}\n",
    "    u(x + h, y) & = u(x, y) + h \\partial_x u(x, y) + \\frac{h^2}{2!}\\partial_x^2 u(x, y) + \\frac{h^3}{3!}\\partial_x^3 u(x, y) + \\mathcal{O}(h^4)\\\\\n",
    "    u(x - h, y) & = u(x, y) - h \\partial_x u(x, y) + \\frac{h^2}{2!}\\partial_x^2 u(x, y) - \\frac{h^3}{3!}\\partial_x^3 u(x, y) + \\mathcal{O}(h^4)\\\\\n",
    "    u(x, y + h) & = u(x, y) + h \\partial_y u(x, y) + \\frac{h^2}{2!}\\partial_y^2 u(x, y) + \\frac{h^3}{3!}\\partial_y^3 u(x, y) + \\mathcal{O}(h^4)\\\\\n",
    "    u(x, y - h) & = u(x, y) - h \\partial_y u(x, y) + \\frac{h^2}{2!}\\partial_y^2 u(x, y) - \\frac{h^3}{3!}\\partial_y^3 u(x, y) + \\mathcal{O}(h^4).\\\\\n",
    "    \\end{split}\n",
    "\\end{equation}\n",
    "$$\n",
    "\n",
    "Inserting into the equation above, we get\n",
    "\n",
    "$$\n",
    "\\begin{equation}\n",
    "    \\begin{split}\n",
    "    \\max_{(x,y) \\in [0,1]^2} | (\\partial_x^+ \\partial_x^- +  \\partial_y^+ \\partial_y^- )u(x, y) - \\Delta u(x,y) | = \n",
    "    & \\max_{(x,y) \\in [0,1]^2} \\left|\\frac{u(x + h, y) + u(x - h, y) + u(x, y + h) + u(x, y - h) - 4u(x, y)}{h^2} - \\Delta u(x, y) \\right| \\\\\n",
    "    = & \\max_{(x,y) \\in [0,1]^2} \\left| \\partial_x^2 u(x, y) + \\partial_y^2 u(x, y) + \\frac{\\mathcal{O}(h^4)}{h^2} - \\Delta u(x, y) \\right| = \\mathcal{O}(h^2).\n",
    "    \\end{split}\n",
    "\\end{equation}\n",
    "$$\n",
    "</font>"
   ]
  },
  {
   "cell_type": "markdown",
   "metadata": {},
   "source": [
    "Using the 5-point stencil, we again get an equation system for the \n",
    "$(N-1)^2$ __internal grid points__ $\\{(x_i, y_j)\\}_{i,j=1}^{n-1}$\n",
    "\n",
    "\\begin{align}\n",
    "-(\\partial_x^+ \\partial_x^- + \\partial_y^+\\partial_y^-) U_{ij}\n",
    "&=\n",
    "\\dfrac{4 U_{i,j} -  U_{i+1,j} - U_{i,j+1} - U_{i-1, j} -  U_{i, j-1}}{h^2}\n",
    "\\\\\n",
    "&=  f(x_i, y_j) =: F_{ij} \\quad \\text{for } i,j = 1,\\ldots N-1.\n",
    "\\end{align}\n"
   ]
  },
  {
   "cell_type": "markdown",
   "metadata": {},
   "source": [
    "As before the system needs to closed by supplementing the equations for the boundary conditions.\n",
    "We set the boundary conditions on the bottom and top of the square $[0,1]^2$ by requiring that\n",
    "\\begin{align}\n",
    "U_{i,j} = g(x_i, y_j) \\quad \\text{for }  i=0,\\ldots, n-1, j \\in \\{0,n\\},\n",
    "\\end{align}\n",
    "and then treating the remaining boundary points on the left and right of $[0,1]^2$:\n",
    "\\begin{align}\n",
    "U_{i,j} = g(x_i, y_j) \\quad \\text{for }  i \\in \\{0,n\\}, j=1,\\ldots, n-1.\n",
    "\\end{align}\n",
    "\n",
    "How can we get from here to a nice looking linear system? \n",
    "We have used a double index, one for each dimension, so that we could easily \n",
    "reduce the discretization of $\\Delta$ to the techniques from Chapter 1 on 1D two-point boundary problems.\n",
    "\n",
    "To avoid the introduction of multi-dimensional matrices, we need to\n",
    "transform the double index $(i,j)$ into a single index by introducing\n",
    "a consecutive numbering $I = I(i,j)$ of the the unknowns.\n",
    "\n",
    "For example, the  row-wise numbering of the unknown is illustrated \n",
    "here:"
   ]
  },
  {
   "cell_type": "markdown",
   "metadata": {},
   "source": [
    "<img src=\"figures/fdm-grid-2.png\" style=\"width:400px;height:410px\"/>"
   ]
  },
  {
   "cell_type": "markdown",
   "metadata": {},
   "source": [
    "#### Task 2: \n",
    "Any consecutive numbering is nothing but an index mapping of the form $\\NN^2 \\ni (i,j) \\mapsto I(i,j) \\in \\NN$.  Which of the following index mapping corresponds to the row-wise numbering illustrated above? \n",
    "1. $I(i,j) = i n + j \\quad$ for $i,j = 0,\\ldots, n$\n",
    "2. $I(i,j) = i + j n\\quad$ for $i,j = 0,\\ldots, n$\n",
    "3. $I(i,j) = i + j(n+1)$ for $i,j = 0,\\ldots, n$\n",
    "4. $I(i,j) = i(n-1) + j$ for $i,j = 0,\\ldots, n$\n",
    "\n",
    "Write also down the index mapping for column-wise numbering\n",
    "(also known as lexicographical order)"
   ]
  },
  {
   "cell_type": "markdown",
   "metadata": {},
   "source": [
    "<font color=\"blue\">\n",
    "<b>Solution:</b><br>\n",
    "\n",
    "Index mapping number 3. $I(i,j) = i + j(n+1)$ for $i, j = 0,\\ldots, n$ corresponds to the row-wise numbering illustrated above.<br>\n",
    "The index mapping for column-wise numbering or lexicographical order is $I(i,j) = j + i(n+1)$ for $i, j = 0,\\ldots, n.$\n",
    "</font>"
   ]
  },
  {
   "cell_type": "markdown",
   "metadata": {},
   "source": [
    "#### Task 3\n",
    "Now we implement a first FDM 2D solver. \n",
    "\n",
    "Define a 1-line function ```I(i,j,n)```\n",
    "which for $n$ equally spaced intervals in each direction\n",
    "transforms an double index $(i,j)$ into a single index $I$\n",
    "using a row-wise numbering."
   ]
  },
  {
   "cell_type": "code",
   "execution_count": null,
   "metadata": {
    "collapsed": true
   },
   "outputs": [],
   "source": [
    "# Define the index mapping\n",
    "def I(i,j,n):\n",
    "    return i + j*(n+1)"
   ]
  },
  {
   "cell_type": "markdown",
   "metadata": {},
   "source": [
    "Next, we define a ```def fdm_poisson_2d_matrix_dense(n, I)```\n",
    "which takes in $n$ and the index mapping $I$, and\n",
    "computes the full finite difference matrix, including setting \n",
    "the diagonal elements which correspond to an index on the boundary to $1$."
   ]
  },
  {
   "cell_type": "code",
   "execution_count": null,
   "metadata": {
    "collapsed": true
   },
   "outputs": [],
   "source": [
    "import numpy as np\n",
    "\n",
    "def fdm_poisson_2d_matrix_dense(n, I):\n",
    "    # Gridsize\n",
    "    h = 1.0/n\n",
    "    \n",
    "    # Total number of unknowns\n",
    "    N = (n+1)*(n+1)\n",
    "\n",
    "    # Define zero matrix A of right size and insert 0\n",
    "    A = np.zeros((N,N))\n",
    "\n",
    "    # Define FD entries of A\n",
    "    hh = h*h\n",
    "    for i in range(1, n):  \n",
    "        for j in range(1, n): \n",
    "            A[I(i,j,n),I(i,j,n)] = 4/hh # U_ij\n",
    "            A[I(i,j,n),I(i-1,j,n)] = -1/hh  # U_{i-1,j}\n",
    "            A[I(i,j,n),I(i+1,j,n)] = -1/hh  # U_{i+1,j}\n",
    "            A[I(i,j,n),I(i,j-1,n)] = -1/hh  # U_{i,j-1}\n",
    "            A[I(i,j,n),I(i,j+1,n)] = -1/hh  # U_{i,j+1}\n",
    "            \n",
    "    # Incorporate boundary conditions\n",
    "    # Add boundary values related to unknowns from the first and last grid ROW\n",
    "    for j in [0,n]:\n",
    "        for i in range(0,n+1):\n",
    "            A[I(i,j,n),I(i,j,n)] = 1\n",
    "\n",
    "    # Add boundary values related to unknowns from the first and last grid COLUMN\n",
    "    for i in [0,n]:\n",
    "        for j in range(1,n):\n",
    "            A[I(i,j,n),I(i,j,n)] = 1\n",
    "            \n",
    "    return A"
   ]
  },
  {
   "cell_type": "markdown",
   "metadata": {},
   "source": [
    "Numerically solve the Poisson problem."
   ]
  },
  {
   "cell_type": "code",
   "execution_count": null,
   "metadata": {
    "collapsed": true
   },
   "outputs": [],
   "source": [
    "# Number of subdivisions in each dimension\n",
    "n = 10\n",
    "\n",
    "#Define the grid using a sparse grid, and using the imaginary number 1j to include the endpoints\n",
    "x,y = np.ogrid[0:1:(n+1)*1j, 0:1:(n+1)*1j]"
   ]
  },
  {
   "cell_type": "markdown",
   "metadata": {},
   "source": [
    "To build a complete example and test your code, use again the method of __manufactured solution__."
   ]
  },
  {
   "cell_type": "code",
   "execution_count": null,
   "metadata": {
    "collapsed": true
   },
   "outputs": [],
   "source": [
    "# Example of exact solution\n",
    "def u_ex(x, y):\n",
    "    return np.sin(1*np.pi*x)*np.sin(2*np.pi*y)\n",
    "\n",
    "# Boundary data g is given by u_ex\n",
    "g = u_ex\n",
    "\n",
    "# Right hand side\n",
    "def f(x, y):\n",
    "    return 5*np.pi**2*np.sin(1*np.pi*x)*np.sin(2*np.pi*y)\n",
    "\n",
    "# Evaluate u on the grid. The output will be a 2-dimensional array \n",
    "# where U_ex_grid[i,j] = u_ex(x_i, y_j)\n",
    "U_ex_grid = u_ex(x, y)"
   ]
  },
  {
   "cell_type": "code",
   "execution_count": null,
   "metadata": {
    "collapsed": true
   },
   "outputs": [],
   "source": [
    "import matplotlib.pyplot as plt\n",
    "from matplotlib import cm\n",
    "from mpl_toolkits.mplot3d import Axes3D\n",
    "\n",
    "# Helper function for plotting grid functions like U_grid\n",
    "def plot2D(X, Y, Z, title=\"\"):\n",
    "    # Define a new figure with given size an\n",
    "    fig = plt.figure(figsize=(8, 6), dpi=100)\n",
    "    ax = fig.gca(projection='3d')\n",
    "    surf = ax.plot_surface(X, Y, Z,             \n",
    "                           rstride=1, cstride=1, # Sampling rates for the x and y input data\n",
    "                           cmap=cm.viridis)      # Use the new fancy colormap viridis\n",
    "    \n",
    "    # Set initial view angle\n",
    "    ax.view_init(30, 225)\n",
    "    \n",
    "    # Set labels and show figure\n",
    "    ax.set_xlabel('$x$')\n",
    "    ax.set_ylabel('$y$')\n",
    "    ax.set_title(title)\n",
    "    plt.show()"
   ]
  },
  {
   "cell_type": "markdown",
   "metadata": {},
   "source": [
    "Now try it out to plot $u_{ex}$."
   ]
  },
  {
   "cell_type": "code",
   "execution_count": null,
   "metadata": {},
   "outputs": [],
   "source": [
    "%matplotlib notebook \n",
    "\n",
    "plot2D(x, y, U_ex_grid, title=\"$u(x,y)$\")"
   ]
  },
  {
   "cell_type": "markdown",
   "metadata": {},
   "source": [
    "You can do the same for right-hand side $f$ and the \n",
    "boundary function $g$."
   ]
  },
  {
   "cell_type": "code",
   "execution_count": null,
   "metadata": {
    "collapsed": true
   },
   "outputs": [],
   "source": [
    "# Evaluating f on the grid\n",
    "F_grid = f(x,y)\n",
    "# Same for boundary data g\n",
    "G_grid = g(x,y)"
   ]
  },
  {
   "cell_type": "markdown",
   "metadata": {},
   "source": [
    "Before we solve the Poisson problem, we need translate the ```F_grid``` into a proper rhs vector $F$, and need to incorporate the boundary function value into $F$.\n",
    "\n",
    "To do this, we start by flattening out $F$ and $G$:"
   ]
  },
  {
   "cell_type": "code",
   "execution_count": null,
   "metadata": {
    "collapsed": true
   },
   "outputs": [],
   "source": [
    "# To apply bcs we have to flatten out F and G, which is done by the ravel function\n",
    "F = F_grid.ravel()\n",
    "G = G_grid.ravel()"
   ]
  },
  {
   "cell_type": "markdown",
   "metadata": {},
   "source": [
    "Also, we define a function incorporating the values of ```G``` into ```F```:"
   ]
  },
  {
   "cell_type": "code",
   "execution_count": null,
   "metadata": {
    "collapsed": true
   },
   "outputs": [],
   "source": [
    "def apply_bcs(F, G, n, I):\n",
    "    # Add boundary values related to unknowns from the first and last grid ROW\n",
    "    bc_indices = [ I(i,j,n)  for j in [0, n] for i in range(0, n+1) ]\n",
    "    F[bc_indices] = G[bc_indices]  \n",
    "\n",
    "    # Add boundary values related to unknowns from the first and last grid COLUMN\n",
    "    bc_indices = [ I(i,j,n) for i in [0, n] for j in range(0, n+1)]\n",
    "    F[bc_indices] = G[bc_indices]"
   ]
  },
  {
   "cell_type": "markdown",
   "metadata": {},
   "source": [
    "Finally, solve the Poisson problem:"
   ]
  },
  {
   "cell_type": "code",
   "execution_count": null,
   "metadata": {
    "scrolled": true
   },
   "outputs": [],
   "source": [
    "import scipy.linalg as la\n",
    "\n",
    "# Compute the FDM matrix\n",
    "A = fdm_poisson_2d_matrix_dense(n,I)\n",
    "\n",
    "# Apply bcs\n",
    "apply_bcs(F,G,n,I)\n",
    "\n",
    "# Solve \n",
    "U = la.solve(A, F)\n",
    "\n",
    "# Make U into a grid function for plotting\n",
    "U_grid = U.reshape((n+1,n+1))\n",
    "\n",
    "# Plot the solution\n",
    "plot2D(x, y, U_grid, title=\"$u(x,y)$\")"
   ]
  },
  {
   "cell_type": "markdown",
   "metadata": {},
   "source": [
    "In the following cell we define a function for solving the Poisson problem given an Index mapping, a number n defining the size of the grid and the functions f and g defining the problem. The function uses a dense matrix-representation."
   ]
  },
  {
   "cell_type": "code",
   "execution_count": null,
   "metadata": {
    "collapsed": true
   },
   "outputs": [],
   "source": [
    "def solve_poisson_dense(n, I, f, g):\n",
    "    #Define grid points\n",
    "    x,y = np.ogrid[0:1:(n+1)*1j, 0:1:(n+1)*1j]\n",
    "\n",
    "    # Compute the FDM matrix\n",
    "    A = fdm_poisson_2d_matrix_dense(n, I)\n",
    "    \n",
    "    # Evaluate f on the grid, and \n",
    "    F_grid = f(x,y)\n",
    "    F = F_grid.ravel()\n",
    "    \n",
    "    # Same game for boundary data g\n",
    "    G_grid = g(x,y)\n",
    "    G = G_grid.ravel()\n",
    "    \n",
    "    # Apply bcs\n",
    "    apply_bcs(F,G,n,I)\n",
    "    \n",
    "    # Solve \n",
    "    U = la.solve(A, F)\n",
    "    \n",
    "    #Make U into grid shape\n",
    "    U_grid = U.reshape((n+1,n+1))\n",
    "    \n",
    "    return U_grid"
   ]
  },
  {
   "cell_type": "markdown",
   "metadata": {},
   "source": [
    "#### Task 4\n",
    "Use the method of manufactured solution together with the given analytical reference solution $u_{ex}$ to compute the experimental order of convergence (EOC)\n",
    "for $N = 16, 32, 64$, using $\\max_{i} |U-u|$ as error measure. Summarize your results in a table. \n",
    "What convergence rate do you get? "
   ]
  },
  {
   "cell_type": "code",
   "execution_count": null,
   "metadata": {},
   "outputs": [],
   "source": [
    "import pandas as pd \n",
    "\n",
    "N_list = [8, 16, 32, 64]\n",
    "errs = []\n",
    "\n",
    "for N in N_list:\n",
    "    \n",
    "    #Define grid points\n",
    "    x,y = np.ogrid[0:1:(N+1)*1j, 0:1:(N+1)*1j]\n",
    "    \n",
    "    #Compute exact solution\n",
    "    U_ex_grid = u_ex(x,y)\n",
    "    \n",
    "    # Solve \n",
    "    U_grid = solve_poisson_dense(N, I, f, g)\n",
    "    \n",
    "    #Find and save error\n",
    "    err = (abs(U_grid-U_ex_grid)).ravel()\n",
    "    errs.append(max(err))\n",
    "    \n",
    "# Finally compute eoc\n",
    "eoc=[]\n",
    "for i in range(1,len(errs)):\n",
    "    eoc.append((np.log(errs[i])-np.log(errs[i-1]))/(np.log(N_list[i-1])-np.log(N_list[i])))\n",
    "\n",
    "\n",
    "df=pd.DataFrame({ \"EOC\":eoc},index = N_list[:3],)\n",
    "df.columns.name = 'N'\n",
    "df.style"
   ]
  },
  {
   "cell_type": "markdown",
   "metadata": {},
   "source": [
    "<font color = blue>\n",
    "As in Part 1, Chapter 1, we once again see that the order of convergence we get is 2. The experimental order of convergence gets closer to exactly 2 as N increases. This is as expected from the theory in task 1 of this chapter.\n",
    "</font>"
   ]
  },
  {
   "cell_type": "markdown",
   "metadata": {},
   "source": [
    "####  Task 5 \n",
    "Test how large you can chose the resolution $n$ until either the problem takes too long (say 5 minutes) to compute or uses too much memory. \n",
    "\n",
    "Can you explain why the problem\n",
    "scales so badly with respect to number of unknowns $N = (n+1)^2$? "
   ]
  },
  {
   "cell_type": "code",
   "execution_count": null,
   "metadata": {},
   "outputs": [],
   "source": [
    "import time\n",
    "start = time.time()\n",
    "\n",
    "solve_poisson_dense(150, I, f, g)\n",
    "\n",
    "end = time.time()\n",
    "print(end - start)"
   ]
  },
  {
   "cell_type": "markdown",
   "metadata": {},
   "source": [
    "<font color=blue> \n",
    "<b>Answer:</b><br>\n",
    "The matrix returned from the ```fdm_poisson_2d_matrix_dense```-function is of size order $N^2$, or $n^4$, for $N = (n+1)^2$ unknowns. Later on, in  ```solve_poisson_dense```, we are using the ```solve```-function from the Scipy linear algebra package to solve the linear matrix equation $AU = F$. When A is of size order $N^2$, this algorithm has a time complexity of $N^3$. This scales the little $n$ up to as much as $n^6$, a fast growing function.\n",
    "</font>"
   ]
  },
  {
   "cell_type": "markdown",
   "metadata": {},
   "source": [
    "#### Task 6 \n",
    "\n",
    "Based on the implementation above, we now implement an improved finite difference solver  using __sparse matrices__. Sparse matrices only store the non-zero elements of a matrix. Note that the number of non-zero elements in the finite difference matrix scales like $N$ and not like $N^2$ like in full matrices.\n",
    "\n",
    "Knowing the structure and entries of the matrix a priori, the most efficient \n",
    "realization would be based on (block) tridiagonal sparse matrices. \n",
    "But to allow for minimal adjustments of the previous solver implementation, we simply switch to a flexible sparse matrix format. "
   ]
  },
  {
   "cell_type": "code",
   "execution_count": null,
   "metadata": {
    "collapsed": true,
    "jupyter": {
     "outputs_hidden": true
    }
   },
   "outputs": [],
   "source": [
    "import scipy.sparse as sp\n",
    "from scipy.sparse.linalg import spsolve"
   ]
  },
  {
   "cell_type": "code",
   "execution_count": null,
   "metadata": {
    "collapsed": true,
    "jupyter": {
     "outputs_hidden": true
    }
   },
   "outputs": [],
   "source": [
    "def fdm_poisson_2d_matrix_sparse(n, I):\n",
    "    # Gridsize\n",
    "    h = 1.0/n\n",
    "    \n",
    "    # Total number of unknowns\n",
    "    N = (n+1)*(n+1)\n",
    "\n",
    "    A =  sp.dok_matrix((N, N))\n",
    "    \n",
    "    # Define FD entries of A\n",
    "    hh = h*h\n",
    "    for i in range(1, n):  \n",
    "        for j in range(1, n): \n",
    "            A[I(i,j,n),I(i,j,n)] = 4/hh # U_ij\n",
    "            A[I(i,j,n),I(i-1,j,n)] = -1/hh  # U_{i-1,j}\n",
    "            A[I(i,j,n),I(i+1,j,n)] = -1/hh  # U_{i+1,j}\n",
    "            A[I(i,j,n),I(i,j-1,n)] = -1/hh  # U_{i,j-1}\n",
    "            A[I(i,j,n),I(i,j+1,n)] = -1/hh  # U_{i,j+1}\n",
    "            \n",
    "    # Incorporate boundary conditions\n",
    "    # Add boundary values related to unknowns from the first and last grid ROW\n",
    "    for j in [0,n]:\n",
    "        for i in range(0,n+1):\n",
    "            A[I(i,j,n),I(i,j,n)] = 1\n",
    "\n",
    "    # Add boundary values related to unknowns from the first and last grid COLUMN\n",
    "    for i in [0,n]:\n",
    "        for j in range(1,n):\n",
    "            A[I(i,j,n),I(i,j,n)] = 1\n",
    "         \n",
    "    return A"
   ]
  },
  {
   "cell_type": "markdown",
   "metadata": {},
   "source": [
    "After creating the matrix we have to convert it to a different format, the so-called\n",
    "\"Compressed Sparse Row matrix\" representation, which is much more efficient when solving the system $A U = F$ with a sparse solver. This is done in the following function, solving the Poisson problem with a sparse matrix-representation."
   ]
  },
  {
   "cell_type": "code",
   "execution_count": null,
   "metadata": {
    "collapsed": true,
    "jupyter": {
     "outputs_hidden": true
    }
   },
   "outputs": [],
   "source": [
    "def solve_poisson_sparse(n, I, f, g):\n",
    "    #Define grid points\n",
    "    x,y = np.ogrid[0:1:(n+1)*1j, 0:1:(n+1)*1j]\n",
    "\n",
    "    # Compute the FDM matrix\n",
    "    A = fdm_poisson_2d_matrix_sparse(n, I)\n",
    "    \n",
    "    A_csr = A.tocsr() \n",
    "    \n",
    "    # Evaluate f on the grid, and \n",
    "    F_grid = f(x,y)\n",
    "    F = F_grid.ravel()\n",
    "    \n",
    "    # Same game for boundary data g\n",
    "    G_grid = g(x,y)\n",
    "    G = G_grid.ravel()\n",
    "    \n",
    "    # Apply bcs\n",
    "    apply_bcs(F,G,n,I)\n",
    "    \n",
    "    # Solve \n",
    "    U = spsolve(A_csr, F)\n",
    "    \n",
    "    #Make U into grid shape\n",
    "    U_grid = U.reshape((n+1,n+1))\n",
    "    \n",
    "    return U_grid"
   ]
  },
  {
   "cell_type": "markdown",
   "metadata": {},
   "source": [
    "#### Task 7 \n",
    "\n",
    "Measure and compare the overall solution time for the two implementations 'fdm_poisson_2d_dense' and 'fdm_poisson_2d_sparse' by using the cell magic command %%timeit."
   ]
  },
  {
   "cell_type": "code",
   "execution_count": null,
   "metadata": {},
   "outputs": [],
   "source": [
    "%%timeit -o\n",
    "solve_poisson_dense(16, I, f, g)"
   ]
  },
  {
   "cell_type": "code",
   "execution_count": null,
   "metadata": {
    "collapsed": true
   },
   "outputs": [],
   "source": [
    "dense_16 = _.average"
   ]
  },
  {
   "cell_type": "code",
   "execution_count": null,
   "metadata": {},
   "outputs": [],
   "source": [
    "%%timeit -o\n",
    "solve_poisson_sparse(16, I, f, g)"
   ]
  },
  {
   "cell_type": "code",
   "execution_count": null,
   "metadata": {
    "collapsed": true
   },
   "outputs": [],
   "source": [
    "sparse_16 = _.average"
   ]
  },
  {
   "cell_type": "code",
   "execution_count": null,
   "metadata": {},
   "outputs": [],
   "source": [
    "%%timeit -o\n",
    "solve_poisson_dense(64, I, f, g)"
   ]
  },
  {
   "cell_type": "code",
   "execution_count": null,
   "metadata": {
    "collapsed": true
   },
   "outputs": [],
   "source": [
    "dense_64 = _.average"
   ]
  },
  {
   "cell_type": "code",
   "execution_count": null,
   "metadata": {},
   "outputs": [],
   "source": [
    "%%timeit -o\n",
    "solve_poisson_sparse(64, I, f, g)"
   ]
  },
  {
   "cell_type": "code",
   "execution_count": null,
   "metadata": {
    "collapsed": true
   },
   "outputs": [],
   "source": [
    "sparse_64 = _.average"
   ]
  },
  {
   "cell_type": "code",
   "execution_count": null,
   "metadata": {},
   "outputs": [],
   "source": [
    "df = pd.DataFrame({\"Dense\":[dense_16, dense_64], \"Sparse\":[sparse_16,sparse_64]}, index = [16,64])\n",
    "df.columns.name = 'N'\n",
    "df.style"
   ]
  },
  {
   "cell_type": "code",
   "execution_count": null,
   "metadata": {
    "collapsed": true
   },
   "outputs": [],
   "source": []
  }
 ],
 "metadata": {
  "kernelspec": {
   "display_name": "Python 3",
   "language": "python",
   "name": "python3"
  },
  "language_info": {
   "codemirror_mode": {
    "name": "ipython",
    "version": 3
   },
   "file_extension": ".py",
   "mimetype": "text/x-python",
   "name": "python",
   "nbconvert_exporter": "python",
   "pygments_lexer": "ipython3",
   "version": "3.6.2"
  }
 },
 "nbformat": 4,
 "nbformat_minor": 4
}
