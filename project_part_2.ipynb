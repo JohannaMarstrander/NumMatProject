{
 "cells": [
  {
   "cell_type": "markdown",
   "metadata": {},
   "source": [
    "# Computer Project for TMA4215\n",
    "\n",
    "$$\n",
    "\\DeclareMathOperator{\\Div}{div}\n",
    "\\DeclareMathOperator{\\Grad}{grad}\n",
    "\\DeclareMathOperator{\\Curl}{curl}\n",
    "\\DeclareMathOperator{\\Rot}{rot}\n",
    "\\DeclareMathOperator{\\ord}{ord}\n",
    "\\DeclareMathOperator{\\Kern}{ker}\n",
    "\\DeclareMathOperator{\\Image}{im}\n",
    "\\DeclareMathOperator{\\spann}{span}\n",
    "\\DeclareMathOperator{\\rank}{rank}\n",
    "\\DeclareMathOperator{\\dist}{dist}\n",
    "\\DeclareMathOperator{\\diam}{diam}\n",
    "\\DeclareMathOperator{\\sig}{sig}\n",
    "\\DeclareMathOperator{\\Id}{Id}\n",
    "\\DeclareMathOperator{\\CQR}{CQR}\n",
    "\\DeclareMathOperator{\\QR}{QR}\n",
    "\\DeclareMathOperator{\\TR}{TR}\n",
    "\\DeclareMathOperator{\\CTR}{CTR}\n",
    "\\DeclareMathOperator{\\SR}{SR}\n",
    "\\DeclareMathOperator{\\CSR}{CSR}\n",
    "\\DeclareMathOperator{\\NCR}{NCR}\n",
    "\\DeclareMathOperator{\\MR}{MR}\n",
    "\\newcommand{\\RR}{\\mathbb{R}}\n",
    "\\newcommand{\\NN}{\\mathbb{N}}\n",
    "\\newcommand{\\VV}{\\mathbb{V}}\n",
    "\\newcommand{\\PP}{\\mathbb{P}}\n",
    "\\newcommand{\\dGamma}{\\,\\mathrm{d} \\Gamma}\n",
    "\\newcommand{\\dGammah}{\\,\\mathrm{d} \\Gamma_h}\n",
    "\\newcommand{\\dx}{\\,\\mathrm{d}x}\n",
    "\\newcommand{\\dy}{\\,\\mathrm{d}y}\n",
    "\\newcommand{\\ds}{\\,\\mathrm{d}s}\n",
    "\\newcommand{\\dt}{\\,\\mathrm{d}t}\n",
    "\\newcommand{\\dS}{\\,\\mathrm{d}S}\n",
    "\\newcommand{\\dV}{\\,\\mathrm{d}V}\n",
    "\\newcommand{\\dX}{\\,\\mathrm{d}X}\n",
    "\\newcommand{\\dY}{\\,\\mathrm{d}Y}\n",
    "\\newcommand{\\dE}{\\,\\mathrm{d}E}\n",
    "\\newcommand{\\dK}{\\,\\mathrm{d}K}\n",
    "\\newcommand{\\dM}{\\,\\mathrm{d}M}\n",
    "\\newcommand{\\cd}{\\mathrm{cd}}\n",
    "\\newcommand{\\onehalf}{\\frac{1}{2}}\n",
    "\\newcommand{\\bfP}{\\boldsymbol P}\n",
    "\\newcommand{\\bfx}{\\boldsymbol x}\n",
    "\\newcommand{\\bfy}{\\boldsymbol y}\n",
    "\\newcommand{\\bfa}{\\boldsymbol a}\n",
    "\\newcommand{\\bfu}{\\boldsymbol u}\n",
    "\\newcommand{\\bfv}{\\boldsymbol v}\n",
    "\\newcommand{\\bfe}{\\boldsymbol e}\n",
    "\\newcommand{\\bfb}{\\boldsymbol b}\n",
    "\\newcommand{\\bfc}{\\boldsymbol c}\n",
    "\\newcommand{\\bfq}{\\boldsymbol q}\n",
    "\\newcommand{\\bfy}{\\boldsymbol y}\n",
    "\\newcommand{\\bff}{\\boldsymbol f}\n",
    "\\newcommand{\\bfp}{\\boldsymbol p}\n",
    "\\newcommand{\\bft}{\\boldsymbol t}\n",
    "\\newcommand{\\bfj}{\\boldsymbol j}\n",
    "\\newcommand{\\bfB}{\\boldsymbol B}\n",
    "\\newcommand{\\bfV}{\\boldsymbol V}\n",
    "\\newcommand{\\bfE}{\\boldsymbol E}\n",
    "\\newcommand{\\bfB}{\\boldsymbol B}\n",
    "\\newcommand{\\bfzero}{\\boldsymbol 0}\n",
    "$$"
   ]
  },
  {
   "cell_type": "code",
   "execution_count": null,
   "metadata": {
    "collapsed": true
   },
   "outputs": [],
   "source": [
    "from IPython.core.display import HTML\n",
    "def css_styling():\n",
    "    styles = open(\"../../styles/tma4215.css\", \"r\").read()\n",
    "    return HTML(styles)\n",
    "\n",
    "# Comment out next line and execute this cell to restore the default notebook style \n",
    "#css_styling()"
   ]
  },
  {
   "cell_type": "code",
   "execution_count": 5,
   "metadata": {
    "collapsed": true
   },
   "outputs": [],
   "source": [
    "import numpy as np\n",
    "from matplotlib import pyplot as plt\n",
    "import scipy.sparse as sp\n",
    "from scipy.sparse.linalg import spsolve\n",
    "from scipy.sparse import identity, dok_matrix\n",
    "from scipy.sparse.linalg import factorized\n",
    "import matplotlib.pyplot as plt\n",
    "from matplotlib import cm\n",
    "from mpl_toolkits.mplot3d import Axes3D\n",
    "import matplotlib.animation as animation\n",
    "import pandas as pd "
   ]
  },
  {
   "cell_type": "markdown",
   "metadata": {},
   "source": [
    "## Part 2: The Heat Equation\n",
    "\n",
    "We now return to numerical methods for ODE. The main goal\n",
    "of this part  to develop a solver for the __classical heat equation__\n",
    "\\begin{alignat*}{3}\n",
    "\\partial_t u - \\kappa \\Delta u &= f\n",
    "&& \\quad \\text{in } \\Omega  \\times (t_0, T)\n",
    "\\subset \\RR^2 \\times \\RR,\n",
    "\\\\\n",
    "u &= u_D && \\quad  \\text{on } \\partial \\Omega  \\times (t_0, T)\n",
    "\\subset \\RR^2 \\times \\RR\n",
    "\\\\\n",
    "u(\\cdot,t_0) &= u_0\n",
    "&&\\quad \\text{in } \\Omega.\n",
    "\\end{alignat*}\n",
    "and this will be accomplished by\n",
    "transforming the heat equation into an (large) ODE system\n",
    "with the help of the finite difference method."
   ]
  },
  {
   "cell_type": "markdown",
   "metadata": {},
   "source": [
    "### Chapter 1: The Crank-Nicolson and $\\theta$-Method for ODEs"
   ]
  },
  {
   "cell_type": "markdown",
   "metadata": {},
   "source": [
    "#### Task 1: Derivation of the Crank-Nicolsen method\n",
    "\n",
    "We recall the initial value problem for ordinary differential equations:\n",
    "\n",
    "Given a function $f: [0,T] \\times \\RR^n \\to \\RR^n$ and initial value\n",
    "$y_0 \\in \\RR$, find $y: [0,T] \\to \\RR^n$ such that\n",
    "\\begin{align}\n",
    "y'(t) &= f(t,y(t)) \\quad t \\in (0,T),\n",
    "\\tag{1a}\n",
    "\\\\\n",
    "y(0) &= y_0.\n",
    "\\tag{1b}\n",
    "\\end{align}\n",
    "\n",
    "Recall the integral representation of (1a)-(1b) and apply the trapezoidal rule to the integral. \n",
    "\n",
    "__a__) How does the resulting one-step method look like?\n",
    "\n",
    "__b__) Is this a Runge-Kutta method? Write down the Butcher table. "
   ]
  },
  {
   "cell_type": "markdown",
   "metadata": {},
   "source": [
    "<font color=blue> \n",
    "<b>Solution:</b><br>\n",
    "\n",
    "**a)** The integral representation from the lectures of the initial value problem $(1\\text{a})$ is: \n",
    "$$\n",
    "y(t_{i+1}) - y(t_i) = \\int_{t_i}^{t_{i+1}} f(t, y(t))\\dt,\n",
    "$$\n",
    "\n",
    "Applying the trapezoidal rule to the integral gives the following one-step method:\n",
    "\n",
    "$$\n",
    "y(t_{i+1}) = y_{i+1} = y_i + \\frac{1}{2} \\tau (f(t_{i}, y_{i}) + f(t_{i+1}, y_{i+1})),\n",
    "$$\n",
    "$$\n",
    "y(t_0) = y(0) = y_0\n",
    "$$\n",
    "\n",
    "**b)** A Runge-Kutta method is defined by:\n",
    "\n",
    "$$\n",
    "\\begin{align}\n",
    "Y_{j} &= y_i +  \\tau \\sum_{l=1}^{s} {a}_{jl} f(t_i + c_l \\tau, Y_l) \\quad \\text{for } j = 1,\\ldots s, \\\\\n",
    "y_{i+1} &= y_i + \\tau \\sum_{j=0}^s b_j f(t_i + c_j \\tau, Y_j),\\\\\n",
    "\\end{align}\n",
    "$$\n",
    "\n",
    "where a given scheme can be specified in the form of a Butcher table:\n",
    "$$\n",
    "\\begin{align}\n",
    "\\renewcommand\\arraystretch{1.2}\n",
    "\\begin{array}\n",
    "{c|ccc}\n",
    "c_1 & a_{11} & \\cdots & a_{1s}\n",
    "\\\\\n",
    "\\vdots & \\vdots & & \\vdots\n",
    "\\\\\n",
    "c_s & a_{s1} & \\cdots & a_{ss}\n",
    "\\\\\n",
    "\\hline\n",
    "& b_1 & \\cdots & b_s\n",
    "\\end{array}\n",
    "\\end{align}\n",
    "$$\n",
    "\n",
    "The following butcher table represents the trapezoidal rule:\n",
    "$$\n",
    "\\begin{align}\n",
    "\\renewcommand\\arraystretch{1.2}\n",
    "\\begin{array}\n",
    "{c|ccc}\n",
    "0 & 0 & 0\n",
    "\\\\\n",
    "1 & 1/2 & 1/2\n",
    "\\\\\n",
    "\\hline\n",
    "& 1/2 & 1/2\n",
    "\\end{array}\n",
    "\\end{align}\n",
    "$$\n",
    "\n",
    "Writing out the expression for $y_{i+1}$, $Y_1$, and $Y_2$ with the formulas given for Runge-Kutta methods, we get:\n",
    "\n",
    "$$\n",
    "\\begin{align}\n",
    "Y_{1} &= y_i, \n",
    "\\\\\n",
    "Y_{2} &= y_i + \\tau \\frac{1}{2}(f(t_i, Y_1) + f(t_{i+1}, Y_2)),\n",
    "\\\\\n",
    "y_{i+1} &= y_i + \\tau \\frac{1}{2}f(t_i, Y_1) + f(t_{i+1}, Y_2)).\n",
    "\\end{align}\n",
    "$$\n",
    "\n",
    "Evidently, $Y_2 = y_{i+1}$ and hence we get:\n",
    "\n",
    "$$\n",
    "\\begin{equation}\n",
    "y_{i+1} = y_i + \\tau \\frac{1}{2}(f(t_i, y_i) + f(t_{i+1}, y_{i+1})),\n",
    "\\end{equation}\n",
    "$$\n",
    "\n",
    "which is the formula for the trapezoidal method.\n",
    "</font>"
   ]
  },
  {
   "cell_type": "markdown",
   "metadata": {},
   "source": [
    "#### Task 2: The the $\\theta$-method\n",
    "\n",
    "For $\\theta \\in [0,1]$, define the one-step theta method by\n",
    "\n",
    "$$\n",
    "y_{i+1} = y_i + h(\\theta f(t_{i+1}, y_{i+1}) + (1-\\theta)  f(t_{i}, y_{i})),\n",
    "$$\n",
    "so for a given $\\theta$, a weighted sum/convex combination \n",
    "of $f(t_{i+1}, y_{i+1})$ and $f(t_{i}, y_{i})$ is taken.\n",
    "\n",
    "__a__) Write down the Butcher table.\n",
    "\n",
    "__b__) Which known schemes to you get for $\\theta=0,1,0.5$?\n",
    "\n",
    "__c__) Use the __order conditions__ to determine the consistency order of the   $\\theta$-method.\n",
    "\n",
    "__d__) Determine the stability function for $\\theta$-method."
   ]
  },
  {
   "cell_type": "markdown",
   "metadata": {},
   "source": [
    "<font color=blue> \n",
    "<b>Solution:</b><br>\n",
    "**a)** Once again, we write out the expressions for $y_{i+1}, Y_1$ and $Y_2$ to find the elements of the Butcher table. We have\n",
    "\n",
    "$$\n",
    "\\begin{align}\n",
    "y_{i+1} &= y_i + \\tau(\\theta f(t_i + 1 \\cdot \\tau, Y_2) + (1 - \\theta) f(t_i + 0 \\cdot \\tau, Y_1) \\\\\n",
    "Y_2 &= y_{i+1} = y_i + \\tau(\\theta f(t_i + 1 \\cdot \\tau, Y_2) + (1-\\theta) f(t_i, Y_1)) \\\\\n",
    "Y_1 &= y_i = y_i + \\tau(0 \\cdot f(t_i + \\tau, Y_2) + 0 \\cdot f(t_i, Y_1)).\\\\\n",
    "\\end{align}\n",
    "$$\n",
    "\n",
    "Thus, we get that the Butcher table for the one-step theta method is\n",
    "$$\n",
    "\\begin{align}\n",
    "\\renewcommand\\arraystretch{1.2}\n",
    "\\begin{array}\n",
    "{c|ccc}\n",
    "0 & 0 & 0\n",
    "\\\\\n",
    "1 & (1-\\theta) & \\theta\n",
    "\\\\\n",
    "\\hline\n",
    "& (1 - \\theta) & \\theta\n",
    "\\end{array}\n",
    "\\end{align}\n",
    "$$\n",
    "\n",
    "<br><br>\n",
    "**b)** \n",
    "$\\theta = 0 \\Rightarrow y_{i+1} = y_i + h f(t_i, y_i) \\rightarrow$ Euler's method. <br>\n",
    "$\\theta = 1 \\Rightarrow y_{i+1} = y_i + h f(t_{i+1}, y_{i+1}) \\rightarrow$ Backward Euler.<br>\n",
    "$\\theta = 0.5 \\Rightarrow y_{i+1} = y_i + \\frac{1}{2}h (f(t_{i+1}, y_{i+1}) + f(t_i, y_i)) \\rightarrow$ Trapezoidal rule.\n",
    "\n",
    "<br><br>\n",
    "**c)** Order conditions:<br>\n",
    "<u>p = 1:</u> $\\sum_i b_i = 1$ for all $\\theta$. Thus all $\\theta$ statisfy the order condition for order 1. <br>\n",
    "<u>p = 2:</u> $\\sum_i b_i c_i = (1 - \\theta) \\cdot 0 + \\theta \\cdot 1 = \\theta$. The order condition for order 2 is that this sum should equal $\\frac{1}{2}$, hence only $\\theta = 0.5$ satisfies this order condition.\n",
    "\n",
    "Using these results, we get that $\\theta= 0, \\theta = 1$ has order of consistency 1, while $\\theta = 0.5$ has order of consistency 2. \n",
    "\n",
    "<br><br>\n",
    "**d)** We use the test-equation\n",
    "$$\n",
    "y' = \\mu y, \n",
    "$$\n",
    "\n",
    "to find the stability function for the $\\theta$-method. With $z = \\tau \\mu$ we get:\n",
    "\n",
    "\\begin{align}\n",
    "y_{i+1} &= y_i + \\tau \\theta f(t_{i+1}, y_{i+1}) + \\tau (1-\\theta) f(t_i, y_i)\n",
    "\\\\\n",
    "&= y_i + z \\theta y_{i+1} + z (1-\\theta) y_i\n",
    "\\\\\n",
    "&= \\frac{1+z-z\\theta}{1-z\\theta}y_i\n",
    "\\end{align}\n",
    "\n",
    "Hence the stability function for the theta-method is:\n",
    "$$\n",
    "R(z) = \\frac{1+z-z\\theta}{1-z\\theta}.\n",
    "$$\n",
    "\n",
    "This means that given $\\lambda \\in \\mathbb{C}^{-}$, in each step we need $h$ and $\\theta$ such that $|R(z)| < 1$ for the method to be stable.  \n",
    "</font>"
   ]
  },
  {
   "cell_type": "markdown",
   "metadata": {},
   "source": [
    "#### Task 3\n",
    "\n",
    "Implement the $\\theta$ method and compute the numerical solution to simple initial value \n",
    "problem\n",
    "$$\n",
    "y' = \\mu y \n",
    "\\\\\n",
    "y(0) = y_0.\n",
    "$$\n",
    "\n",
    "__a__) Implement the general $\\theta$-method and validate your implementation\n",
    "by computing the numerical solution for\n",
    "initial value problem on the interval $(0,1)$ for $y_0=1$, $\\mu = 1$, including a \n",
    "convergence/EOC test as we did before."
   ]
  },
  {
   "cell_type": "code",
   "execution_count": 6,
   "metadata": {},
   "outputs": [
    {
     "ename": "AttributeError",
     "evalue": "'Styler' object has no attribute 'hide_index'",
     "output_type": "error",
     "traceback": [
      "\u001b[1;31m---------------------------------------------------------------------------\u001b[0m",
      "\u001b[1;31mAttributeError\u001b[0m                            Traceback (most recent call last)",
      "\u001b[1;32m<ipython-input-6-8eed27e46123>\u001b[0m in \u001b[0;36m<module>\u001b[1;34m()\u001b[0m\n\u001b[0;32m     31\u001b[0m \u001b[1;33m\u001b[0m\u001b[0m\n\u001b[0;32m     32\u001b[0m \u001b[0mdf\u001b[0m \u001b[1;33m=\u001b[0m \u001b[0mpd\u001b[0m\u001b[1;33m.\u001b[0m\u001b[0mDataFrame\u001b[0m\u001b[1;33m(\u001b[0m\u001b[1;33m{\u001b[0m\u001b[1;34mr\"$\\theta=0$\"\u001b[0m\u001b[1;33m:\u001b[0m\u001b[0mEOC\u001b[0m\u001b[1;33m[\u001b[0m\u001b[1;36m0\u001b[0m\u001b[1;33m]\u001b[0m\u001b[1;33m,\u001b[0m \u001b[1;34mr\"$\\theta=0.5$\"\u001b[0m\u001b[1;33m:\u001b[0m\u001b[0mEOC\u001b[0m\u001b[1;33m[\u001b[0m\u001b[1;36m1\u001b[0m\u001b[1;33m]\u001b[0m\u001b[1;33m,\u001b[0m\u001b[1;34mr\"$\\theta=1$\"\u001b[0m\u001b[1;33m:\u001b[0m\u001b[0mEOC\u001b[0m\u001b[1;33m[\u001b[0m\u001b[1;36m2\u001b[0m\u001b[1;33m]\u001b[0m\u001b[1;33m}\u001b[0m\u001b[1;33m)\u001b[0m\u001b[1;33m\u001b[0m\u001b[0m\n\u001b[1;32m---> 33\u001b[1;33m \u001b[0mdf\u001b[0m\u001b[1;33m.\u001b[0m\u001b[0mstyle\u001b[0m\u001b[1;33m.\u001b[0m\u001b[0mhide_index\u001b[0m\u001b[1;33m(\u001b[0m\u001b[1;33m)\u001b[0m\u001b[1;33m\u001b[0m\u001b[0m\n\u001b[0m\u001b[0;32m     34\u001b[0m \u001b[1;33m\u001b[0m\u001b[0m\n",
      "\u001b[1;31mAttributeError\u001b[0m: 'Styler' object has no attribute 'hide_index'"
     ]
    }
   ],
   "source": [
    "g = lambda x,mu: np.exp(mu*x) #exact solution\n",
    "\n",
    "def theta_method(y0, mu, t0, T, n, theta=0.5):\n",
    "    ys = [y0]\n",
    "    ts = [t0]\n",
    "    dt = (T - t0)/n\n",
    "            \n",
    "    for i in range(1,n+1):\n",
    "        ys.append((ys[-1]*(1+mu*dt*(1-theta))/(1-theta*mu*dt)))\n",
    "        ts.append(ts[-1]+dt)\n",
    "        \n",
    "    return (np.array(ts), np.array(ys))\n",
    "\n",
    "\n",
    "N_list = [8, 16, 32, 64]\n",
    "\n",
    "\n",
    "theta_list=[0,0.5,1]\n",
    "EOC=[]\n",
    "for theta in theta_list:\n",
    "    errs = []\n",
    "    eoc=[]\n",
    "    for N in N_list:\n",
    "        ts,ys = theta_method(1,1,0,1,N,theta)\n",
    "        y = g(ts,1)\n",
    "        err=abs(ys-y)\n",
    "        errs.append(max(err))\n",
    "    for i in range(1,len(errs)):\n",
    "        eoc.append((np.log(errs[i])-np.log(errs[i-1]))/(np.log(N_list[i-1])-np.log(N_list[i])))\n",
    "    EOC.append(eoc)\n",
    "\n",
    "df = pd.DataFrame({r\"$\\theta=0$\":EOC[0], r\"$\\theta=0.5$\":EOC[1],r\"$\\theta=1$\":EOC[2]})\n",
    "df.style.hide_index()\n",
    "    "
   ]
  },
  {
   "cell_type": "markdown",
   "metadata": {},
   "source": [
    "__b)__ Now for $\\mu \\in \\{-10, -100, -1000\\}$, define the reference step length\n",
    "$\\tau_{\\mu} = \\dfrac{2}{|\\mu|}$, plot the exact solutions, and compute and plot\n",
    "the numerical solution for $\\tau \\in \\{ 5\\tau_{\\mu}, \\tau_{\\mu}, 1/5\\tau_{\\mu} \\}$\n",
    "and $\\theta \\in \\{0, 0.5, 1\\}$ What do you oberserve and why?"
   ]
  },
  {
   "cell_type": "code",
   "execution_count": 7,
   "metadata": {},
   "outputs": [
    {
     "data": {
      "image/png": "[encoded data removed]",
      "text/plain": [
       "<matplotlib.figure.Figure at 0x1c9066d67b8>"
      ]
     },
     "metadata": {},
     "output_type": "display_data"
    },
    {
     "data": {
      "image/png": "[encoded data removed]",
      "text/plain": [
       "<matplotlib.figure.Figure at 0x1c9067f4438>"
      ]
     },
     "metadata": {},
     "output_type": "display_data"
    },
    {
     "data": {
      "image/png": "[encoded data removed]",
      "text/plain": [
       "<matplotlib.figure.Figure at 0x1c906a21a58>"
      ]
     },
     "metadata": {},
     "output_type": "display_data"
    },
    {
     "data": {
      "image/png": "[encoded data removed]",
      "text/plain": [
       "<matplotlib.figure.Figure at 0x1c906b61f28>"
      ]
     },
     "metadata": {},
     "output_type": "display_data"
    },
    {
     "data": {
      "image/png": "[encoded data removed]",
      "text/plain": [
       "<matplotlib.figure.Figure at 0x1c907e96a58>"
      ]
     },
     "metadata": {},
     "output_type": "display_data"
    },
    {
     "data": {
      "image/png": "[encoded data removed]",
      "text/plain": [
       "<matplotlib.figure.Figure at 0x1c906a28860>"
      ]
     },
     "metadata": {},
     "output_type": "display_data"
    },
    {
     "data": {
      "image/png": "[encoded data removed]",
      "text/plain": [
       "<matplotlib.figure.Figure at 0x1c9081dd240>"
      ]
     },
     "metadata": {},
     "output_type": "display_data"
    },
    {
     "data": {
      "image/png": "[encoded data removed]",
      "text/plain": [
       "<matplotlib.figure.Figure at 0x1c9081d7e80>"
      ]
     },
     "metadata": {},
     "output_type": "display_data"
    },
    {
     "data": {
      "image/png": "[encoded data removed]",
      "text/plain": [
       "<matplotlib.figure.Figure at 0x1c907fa5cc0>"
      ]
     },
     "metadata": {},
     "output_type": "display_data"
    }
   ],
   "source": [
    "#%matplotlib notebook\n",
    "\n",
    "mu_list=[-10,-100,-1000]\n",
    "theta_list=[0,0.5,1]\n",
    "y0=1\n",
    "t0=0\n",
    "T = 1\n",
    "\n",
    "for mu in mu_list:\n",
    "    tau_mu = 2/abs(mu)\n",
    "    tau_list = [5*tau_mu,tau_mu,tau_mu/5]\n",
    "    for theta in theta_list:\n",
    "        plt.figure()\n",
    "        for tau in tau_list:\n",
    "            ts,ys=theta_method(y0,mu,t0,T,int((T-t0)/tau),theta)\n",
    "            plt.plot(ts,ys,label = (r\"$\\tau=$\"+str(tau))) \n",
    "        plt.plot(ts,g(ts,mu),label=\"Real solution\",linestyle='dashed')\n",
    "        plt.title(r\"$\\mu=$ \" +str(mu) + r' and $\\theta$ = ' + str(theta))   \n",
    "        plt.legend()\n",
    "        plt.show()\n",
    "\n",
    "\n",
    "        \n"
   ]
  },
  {
   "cell_type": "markdown",
   "metadata": {},
   "source": [
    "<font color=blue>\n",
    "In the case $\\theta=0$ the stability function gives that we must have $|z+1|<1$ for the method to be stable. We observe that this value of $\\theta$ the solution diverges when we have $\\tau= 5\\tau_{\\mu}$ corresponding to $z=-10$. It oscillates when $\\tau= \\tau_{\\mu}$, corresponding to $z=-2$, and converges to the real solution when $\\tau = 1/5\\tau_{\\mu}$,corresponding to $z=-0.4$. This is as expected. \n",
    "\n",
    "In the cases $\\theta=1$ and $\\theta=0.5$ the solution converges for all tested values of $\\tau$. This comes from the fact that the stability area for these two methods covers all negative values for z. \n",
    "</font>"
   ]
  },
  {
   "cell_type": "markdown",
   "metadata": {},
   "source": [
    "### Chapter 2: The $\\theta$-method for the heat equation"
   ]
  },
  {
   "cell_type": "markdown",
   "metadata": {},
   "source": [
    "In this part, we combine the $\\theta$ scheme and the finite difference method \n",
    "as space discretization to solve the heat equation\n",
    "\n",
    "\\begin{alignat*}{3}\n",
    "\\partial_t u  - \\Delta u  &= f  \\quad && \\text{in } \\Omega \\times (0,T]\n",
    "\\\\\n",
    "u &= g_D \\quad && \\text{on } \\partial \\Omega \\times (0, T]\n",
    "\\\\\n",
    "u(x,0) &=  u_0(x) \\quad && \\text{in } \\Omega\n",
    "\\end{alignat*}\n",
    " \n",
    "with initial value $u_0$ and bounday value $g_D$. As before $\\Omega = [0,1]^2$.\n",
    "\n",
    "As in Chapter 2 of part 1, a grid of $N = (n+1)^2$ grid points\n",
    "$$\n",
    "\\{(x_j,y_j)\\}_{i,j=0}^n = \\{(ih,jh) \\in [0,1]^2: 0\\leqslant i,j \\leqslant n \\}\n",
    "$$ are defined with the grid size $h = 1/n$.\n",
    "\n",
    "Now we discretize in space first, starting from the idea that\n",
    "\\begin{align}\n",
    "f(x,y,t) &= \\partial_t u(x,y,t)  - \\Delta u(x,y,t)\n",
    "\\nonumber\n",
    "\\\\\n",
    "&\\approx \\partial_t u(x,y,t)- (\\partial_x^+ \\partial_x^- +  \\partial_y^+ \\partial_y^- )u(x,y,t)\n",
    "\\nonumber\n",
    "\\end{align}\n",
    "\n",
    "Since we have a partial differential equation which depends on time,\n",
    "the idea is to associate with each grid point $(x_i,y_j)$ a \n",
    "__time-dependent__ unknown $U_{i,j}(t)$. Then, using the finite difference method \n",
    "in space to discretize the Poisson operator $-\\Delta$, we end up with the following\n",
    "__system of ordinary differential equations__:\n",
    "\n",
    "Find $U(t) = \\{U_{i,j}\\}_{i,j=0}^n \\in \\RR^{(n+1)^2} = \\RR^N$ such that\n",
    "\\begin{align}\n",
    "&\\dfrac{d}{dt}U_{i,j}(t) \n",
    "-(\\partial_x^+ \\partial_x^- + \\partial_y^+\\partial_y^-) U_{ij}(t)\n",
    "\\nonumber\n",
    "\\\\\n",
    "=\n",
    "&\\dfrac{d}{dt}U_{i,j}(t) + \\dfrac{4 U_{i,j}(t) - U_{i+1,j}(t) - U_{i,j+1}(t) - U_{i-1, j}(t) -  U_{i, j-1}(t)}{h^2}\n",
    "\\nonumber\n",
    "\\\\\n",
    "= & f(x_i, y_j,t) =: F_{ij}(t) \\quad \\text{for } i,j = 1,\\ldots n-1,\n",
    "\\tag{2a}\n",
    "\\\\\n",
    "U_{i,j}(0) &= u_0(x_i, y_j) \\quad \\text{for } i,j = 0,\\ldots n,\n",
    "\\tag{2b}\n",
    "\\end{align}\n",
    "together with the boundary conditions\n",
    "\\begin{gather}\n",
    "U_{i,j}(t) = g_D(x_i, y_j, t) \\quad \\text{for } (i,j) \\in \\{0,\\ldots, N\\} \\times \\{0,N\\}\n",
    "\\cup \\{0,N\\}  \\times \\{0,\\ldots, N\\}.\n",
    "\\tag{2c}\n",
    "\\end{gather}\n",
    "\n",
    "This is often also called a __semi-discretization (in space)__ of the heat equation (since we only discretized the equation in space but not yet in time)."
   ]
  },
  {
   "cell_type": "markdown",
   "metadata": {},
   "source": [
    "Next, we subdivide $(0,T)$ into $m$ subintervals defined by the points\n",
    "$\\{t_k\\}_{k=0}^m$ with $t_k = \\tfrac{k T}{m}$,\n",
    "and apply the $\\theta$ method to the ODE system (2a).\n",
    "We write $U_{i,j}^k$ for the approximation of $U_{i,j}(t_k)$,\n",
    "$F_{i,j}^k = F_{i,j}(t_k)$,\n",
    "and introduce $\\overline{\\theta} = 1 - \\theta$.\n",
    "Then after reordering terms we need to solve\n",
    "\\begin{align}\n",
    "&\\phantom{=} U_{i,j}^{k+1} \n",
    "+\\tau \\theta \\dfrac{4 U_{i,j}^{k+1} - U_{i+1,j}^{k+1} - U_{i,j+1}^{k+1} - U_{i-1, j}^{k+1} -  U_{i, j-1}^{k+1}}{h^2}\n",
    "\\nonumber\n",
    "\\\\\n",
    "&= U_{i,j}^{k} -\\tau \\overline{\\theta} \\dfrac{4 U_{i,j}^{k} - U_{i+1,j}^{k} - U_{i,j+1}^{k} - U_{i-1, j}^{k} -  U_{i, j-1}^{k}}{h^2}   + \\tau \\theta F_{ij}^{k+1} + \\tau \\overline{\\theta} F_{ij}^{k}\n",
    "\\quad \\text{for } i,j = 1,\\ldots n-1,\n",
    "\\tag{3a}\n",
    "\\\\\n",
    "U_{i,j}(0) &= u_0(x_i, y_j) \\quad \\text{for } i,j = 0,\\ldots n,\n",
    "\\tag{3b}\n",
    "\\end{align}\n",
    "together with the boundary conditions\n",
    "\\begin{align}\n",
    "U_{i,j}^{k+1} = g_D(x_i, y_j, t_{k+1}) \\quad \n",
    "&\\text{for } (i,j) \\in \\{0,\\ldots, n\\} \\times \\{0,n\\}\n",
    "\\cup \\{0,N\\}  \\times \\{0,\\ldots, n\\}\n",
    "\\nonumber\n",
    "\\\\\n",
    "&\\text{for } k = 1, \\ldots, m.\n",
    "\\tag{3c}\n",
    "\\end{align}\n"
   ]
  },
  {
   "cell_type": "markdown",
   "metadata": {},
   "source": [
    "Finally, we need to translate (3a)-(3c) into a linear  system.\n",
    "We introduce again as for the 2D Poisson problem an index mapping $\\NN^2 \\ni (i,j) \\mapsto I(i,j) \\in \\NN$ to translate the double index into a single index $I = I(i,j) \\in \\RR^N$, $N=(n+1)^2$. Then applying the $\\theta$ scheme to (2a) results in the\n",
    "following method:\n",
    "\n",
    "* Set $U^0 = \\{U^0_{I}\\}_{I=0}^{N-1} \\in \\RR^N$ with $U^0_{I(i,j)} = u_0(x_i, y_j)$ \n",
    " for $i,j = 0,\\ldots n$.\n",
    "* For $k=0,\\ldots, m-1$, compute $U^{k+1} \\in \\RR^N$ by solving the\n",
    "linear system\n",
    " \\begin{align}\n",
    " (\\Id + \\tau \\theta A)U^{k+1}\n",
    "= B^{k+1}\n",
    "\\tag{4}\n",
    "\\end{align}\n",
    "\n",
    "Note this is only the case if $\\theta > 0$, for $\\theta = 0$ we have an explicit solver.\n",
    "Here $\\Id$ is the $N \\times N$ identity matrix, and $A$ is the $N\\times N$ matrix\n",
    "resulting from the finite difference operator after index-remapping, and\n",
    "with $A_{I,I} = 0$ for those index $I$ which correspond to a boundary index tuple\n",
    "$(i,j)$. So $A$ is in principal the same matrix you implemented\n",
    "in Part 1, Chapter 2, Task 3 but __without__ the extra modifications to set\n",
    "boundary conditions.\n",
    "\n",
    "The right-hand side $B^{k+1} \\in \\RR^{N}$ is computed as follows. First compute\n",
    "$$\n",
    "B^{k+1} := (\\Id - \\tau \\overline{\\theta} A)U^{k}\n",
    "+ \\tau \\theta F^{k+1} + \\tau \\overline{\\theta} F^{k}.\n",
    "$$\n",
    "To incorporate the boundary conditions, you now modify $B^{k+1}$\n",
    "for those index $I$ which correspond to a boundary index tuple \n",
    "$(i,j)$ by setting\n",
    "$$\n",
    "B^{k+1}_{I(i,j)} = g_D(x_i, y_j, t_{k+1}) \\quad \n",
    "\\text{for } (i,j) \\in \\{0,\\ldots, n\\} \\times \\{0,n\\}\n",
    "\\cup \\{0,n\\}  \\times \\{0,\\ldots, n\\}.\n",
    "$$\n",
    "Since $A_{I,I}= 0$ for those indices, we then see that\n",
    "$$\n",
    " ((\\Id + \\tau \\theta A)U^{k+1})_{I} = U^{k+1}_{I} = B^{k+1}_{I} = g_D(x_i, y_j, t_{k+1}),\n",
    "$$\n",
    "so $U^{k+1}$ satisfy our boundary condition at the boundary grid points at $t_{k+1}$."
   ]
  },
  {
   "cell_type": "markdown",
   "metadata": {},
   "source": [
    "#### Task 4\n",
    "\n",
    "Implement the resulting solver to solve the heat equation. Reuse as much code\n",
    "as possible from Part 1, Chapter 2 on the 2D Poisson problem, in particular\n",
    "the generation of the finite difference matrix and the implementation of \n",
    "boundary conditions.\n",
    "\n",
    "For code validation, use analytical reference function of the form\n",
    "$$\n",
    "u(x,y,t) = \\sin(k x) \\sin(l y)\\exp(-\\mu t)\n",
    "$$\n",
    "on $\\Omega = [0,2\\pi]^2$ and $t_0 = 0$ and $T = 1$.\n",
    "for some integers $k, l$ and a constant $\\mu$.\n",
    "\n",
    "__a__) Find $\\mu = \\mu(k,l)$ so that u(x,y,t) is a solution of the\n",
    "heat equation with $f = 0$.\n",
    "\n",
    "__b__) For $\\theta \\in \\{0, 0.5, 1\\}$ compute the numerical solution with initial data and boundary data corresponding to the function you determined in __a__)\n",
    "on a number of grids with $n = \\{10, 20, 40, 80\\}$ corresponding to grid sizes $h = \\{2\\pi/10, 2\\pi/20, 2\\pi/40, 2\\pi/80\\}$.\n",
    "\n",
    "For each of the $h$'s, choose the corresponding time step $\\tau = h/(2\\pi)$\n",
    "to run your simulation and create an animation for\n",
    "\n",
    "* the exact solution;\n",
    "* the numerical solution;\n",
    "* the error function defined by $E_{i,j}^k = U^k_{i,j} - u(x_i, y_i, t_k)$.\n",
    "\n",
    "__c__) For the simulation you ran in __b__) compute the total error as\n",
    "as a function of $n$,\n",
    "$$\n",
    "\\mathrm{err(n)} = \\max_{k} \\max_{i,j} | U^k_{i,j} - u(x_i, y_i, t_k) |\n",
    "$$\n",
    "What error convergence rates do you obtain for the various $\\theta$?"
   ]
  },
  {
   "cell_type": "markdown",
   "metadata": {},
   "source": [
    "<font color=blue>\n",
    "<b>Solution:</b><br>\n",
    "\n",
    "**a)** The heat equation is \n",
    "\n",
    "$$\n",
    "\\partial_t u - \\Delta u = f = 0.\n",
    "$$\n",
    "\n",
    "Using our function $u(x, y, t) = \\sin(kx) \\sin(ly) \\exp(-\\mu t)$, we obtain\n",
    "\n",
    "$$\n",
    "\\begin{split}\n",
    "-\\mu(k, l) \\sin(kx) \\sin(ly) \\exp(-\\mu t) + k^2 \\sin(kx) \\sin(ly) \\exp(-\\mu t) &+ l^2 \\sin(kx) \\sin(ly) \\exp(-\\mu t) = 0 \\\\\n",
    "\\Rightarrow (-\\mu(k, l) + k^2 + l^2) u(x, y, t) &= 0 \\\\\n",
    "\\Rightarrow -\\mu(k, l) + k^2 + l^2 &= 0 \\\\\n",
    "\\Rightarrow \\mu(k, l) = k^2 + l^2.\n",
    "\\end{split}\n",
    "$$\n",
    "<br><br>\n",
    "**b)** Numerical solution:\n",
    "</font>"
   ]
  },
  {
   "cell_type": "markdown",
   "metadata": {},
   "source": [
    "<font color = blue>**b)** The numerical solution:\n",
    "\n",
    "In the following two cells are the functions needed to calculate and plot exact and numerical solutions.</font> "
   ]
  },
  {
   "cell_type": "code",
   "execution_count": 8,
   "metadata": {
    "collapsed": true
   },
   "outputs": [],
   "source": [
    "# Code from Part 1, Chapter 2\n",
    "\n",
    "# Define index mapping\n",
    "def I(i, j, n):   \n",
    "    return i + j*(n+1)\n",
    "\n",
    "\n",
    "\n",
    "#Modified function from earlier. No boudary conditions and changed gridsize(introduced new parameters)\n",
    "def fdm2dMatrixSparse(n, I, x0, x1):\n",
    "    h = (x1 - x0)/n  #Gridsize\n",
    "    N = (n+1)*(n+1)  # Total number of unknowns\n",
    "\n",
    "    A =  sp.dok_matrix((N, N))\n",
    "    \n",
    "    # Define FD entries of A\n",
    "    hh = h*h\n",
    "    for i in range(1, n):  \n",
    "        for j in range(1, n): \n",
    "            A[I(i,j,n),I(i,j,n)] = 4/hh # U_ij\n",
    "            A[I(i,j,n),I(i-1,j,n)] = -1/hh  # U_{i-1,j}\n",
    "            A[I(i,j,n),I(i+1,j,n)] = -1/hh  # U_{i+1,j}\n",
    "            A[I(i,j,n),I(i,j-1,n)] = -1/hh  # U_{i,j-1}\n",
    "            A[I(i,j,n),I(i,j+1,n)] = -1/hh  # U_{i,j+1}\n",
    "         \n",
    "    return A\n",
    "\n",
    "\n",
    "#Define f = 0\n",
    "def f(x, y, t):\n",
    "    return x*0 + y*0\n",
    "\n",
    "\n",
    "#Setting constants defining the problem \n",
    "k , l = 1 , 2\n",
    "mu = k**2 + l**2\n",
    "\n",
    "#Define the exact solution at given point in space and time\n",
    "def u_ex(x, y, t):\n",
    "    return np.exp(-mu*t)*np.sin(k*x)*np.sin(l*y)\n",
    "\n",
    "\n",
    "\n",
    "#Function for creating a list of matrices for the exact solution in time(for plotting later)\n",
    "def calculate_exact_sol(n, x, y, u_ex, tau):\n",
    "    X,Y = np.meshgrid(x,y,sparse=True)\n",
    "    \n",
    "    # Store U in a list for animation plot\n",
    "    U_list = [u_ex(X, Y, 0)]\n",
    "\n",
    "    # Evaluate exact solution at each time step and store it\n",
    "    t = 0\n",
    "    while t < T:\n",
    "        t+= tau\n",
    "        U = u_ex(X, Y, t)\n",
    "        U_list.append(U)\n",
    "    \n",
    "    return U_list\n",
    "\n",
    "\n",
    "#given code for plotting\n",
    "def _plot_frame_fdm_solution(i, ax, X, Y, U_list, title, zlim=None):\n",
    "    ax.clear()\n",
    "    line  = ax.plot_surface(X, Y, U_list[i],             \n",
    "            rstride=1, cstride=1, # Sampling rates for the x and y input data\n",
    "            cmap=cm.viridis)      # Use the new fancy colormap viridis\n",
    "    if zlim is not None:\n",
    "        ax.set_zlim(zlim)\n",
    "    total_frame_number = len(U_list)\n",
    "    complete_title = title + (\" (Frame %d of %d)\" % (i,total_frame_number))\n",
    "    ax.set_title(complete_title)\n",
    "    return line\n",
    "\n",
    "def plot_2D_animation(X, Y, U_list, title='', duration=10, zlim=None):\n",
    "    fig = plt.figure()\n",
    "    ax = fig.add_subplot(111, projection='3d')\n",
    " \n",
    "    fargs = (ax,X,Y,U_list, title, zlim)\n",
    "    frame_plotter = _plot_frame_fdm_solution\n",
    "\n",
    "    frames = len(U_list)\n",
    "    interval = duration/frames*1000\n",
    "    ani = animation.FuncAnimation(fig, frame_plotter, \n",
    "            frames=len(U_list), fargs=fargs, \n",
    "            interval=interval, blit=False, repeat=True)\n",
    "    return ani"
   ]
  },
  {
   "cell_type": "code",
   "execution_count": 9,
   "metadata": {
    "collapsed": true
   },
   "outputs": [],
   "source": [
    "#The function for solving the heat equation(finding a list of matrices that represent the numerical solution)\n",
    "#given a grid, the boundary conditions, time interval, time step, theta. \n",
    "def solveHeatEq(I, U_0_grid, f, g, theta, tau, t0, T, X, Y):\n",
    "\n",
    "    t = t0\n",
    "    A = fdm2dMatrixSparse(n, I, X[0,0], X[0,-1])   \n",
    "    N = (n+1)**2\n",
    "    matrix = sp.dok_matrix(np.identity(N)) \n",
    "    matrix = matrix + tau*theta*A\n",
    "    matrix_csc = matrix.tocsc()  \n",
    "    solve = factorized(matrix_csc)\n",
    "    \n",
    "    U_list = [U_0_grid]\n",
    "    U = U_0_grid.ravel()\n",
    "    F_grid = f(X, Y, t)\n",
    "    F = F_grid.ravel()\n",
    "    \n",
    "    while t < T:\n",
    "        t += tau\n",
    "        \n",
    "        F1_grid = f(X, Y, t)\n",
    "        F1 = F1_grid.ravel()\n",
    "        Q= sp.dok_matrix(np.identity(N) - tau*(1-theta)*A)\n",
    "        B = np.dot(Q.toarray(),U) + tau*theta*F1 + tau*(1-theta)*F\n",
    "\n",
    "        # Incorporate boundary conditions\n",
    "        for j in [0,n]:\n",
    "            for i in range(0,n+1):\n",
    "                B[I(i,j,n)] = g(X[0,i], Y[j,0], t)\n",
    "        for i in [0,n]:\n",
    "            for j in range(1,n):\n",
    "                B[I(i,j,n)] = g(X[0,i], Y[j,0], t)\n",
    "                \n",
    "        U = solve(B)\n",
    "        U_list.append(U.reshape((n+1,n+1)))\n",
    "        F = F1\n",
    "        \n",
    "    return U_list"
   ]
  },
  {
   "cell_type": "markdown",
   "metadata": {},
   "source": [
    "<font color = blue> In the following two cells all the exact and numerical solutions as well as the error-functions are calculated for different values of N and theta. </font>"
   ]
  },
  {
   "cell_type": "code",
   "execution_count": null,
   "metadata": {},
   "outputs": [
    {
     "name": "stdout",
     "output_type": "stream",
     "text": [
      "10\n",
      "20\n",
      "40\n",
      "80\n"
     ]
    }
   ],
   "source": [
    "t0,T = 0, 1\n",
    "N = [10, 20, 40, 80]\n",
    "L = 2*np.pi\n",
    "\n",
    "Exact_solutions = [] #List with exact solutions for different values of n.\n",
    "Numerical_solutions_thalf = [] #List of numerical solutions for all n with theta = 0.5\n",
    "Numerical_solutions_tone = [] # List of numerical solutions for all n with theta = 1\n",
    "Numerical_solutions_tzero = [] #List of numerical solutions for all n with theta = 0\n",
    "Meshgrids_x = []  #Lists for storing the \n",
    "Meshgrids_y = []  #grids for later use\n",
    "\n",
    "for n in N:\n",
    "    print(n)\n",
    "    #Generate grid\n",
    "    xi = np.linspace(0,L,n+1)\n",
    "    yi = np.linspace(0,L,n+1)\n",
    "    X,Y = np.meshgrid(xi,yi,sparse=True)\n",
    "    Meshgrids_x.append(X)\n",
    "    Meshgrids_y.append(Y)\n",
    "    tau = 1/n   #h/2pi\n",
    "    U_0_grid = u_ex(X, Y, 0)\n",
    "    \n",
    "    Exact_solutions.append(calculate_exact_sol(n, X, Y, u_ex, tau))\n",
    "    Numerical_solutions_thalf.append(solveHeatEq(I, U_0_grid, f,  u_ex, 0.5, tau, t0, T, X, Y))\n",
    "    Numerical_solutions_tone.append(solveHeatEq(I, U_0_grid, f,  u_ex, 1, tau, t0, T, X, Y))\n",
    "    Numerical_solutions_tzero.append(solveHeatEq(I, U_0_grid, f,  u_ex, 0, tau, t0, T, X, Y))\n",
    "    \n"
   ]
  },
  {
   "cell_type": "code",
   "execution_count": null,
   "metadata": {
    "collapsed": true
   },
   "outputs": [],
   "source": [
    "#Caluculating error functions\n",
    "Error_thalf = [] #theta = 0.5\n",
    "Error_tone = []  #theta = 1\n",
    "Error_tzero = [] #theta = 0\n",
    "\n",
    "#Lists(one for each theta) storing total error for different n\n",
    "Max_error_thalf = []\n",
    "Max_error_tone = []\n",
    "Max_error_tzero = []\n",
    "        \n",
    "#Calculating the errorfunctions and total error\n",
    "for i in range(len(Numerical_solutions_thalf)):\n",
    "    err_half = []\n",
    "    err_one = []\n",
    "    err_zero = []\n",
    "    max_err_thalf = 0\n",
    "    max_err_tone = 0\n",
    "    max_err_tzero = 0\n",
    "    \n",
    "    for j in range(len(Numerical_solutions_thalf[i])):\n",
    "        err_half.append(Numerical_solutions_thalf[i][j]-Exact_solutions[i][j])\n",
    "        err_one.append(Numerical_solutions_tone[i][j]-Exact_solutions[i][j])\n",
    "        err_zero.append(Numerical_solutions_tzero[i][j]-Exact_solutions[i][j])\n",
    "        max_err_thalf = max(max_err_thalf, (Numerical_solutions_thalf[i][j]-Exact_solutions[i][j]).max())\n",
    "        max_err_tone = max(max_err_tone, (Numerical_solutions_tone[i][j]-Exact_solutions[i][j]).max())\n",
    "        max_err_tzero = max(max_err_tzero, (Numerical_solutions_tzero[i][j]-Exact_solutions[i][j]).max())\n",
    "        \n",
    "    Error_thalf.append(np.array(err_half))\n",
    "    Error_tone.append(np.array(err_one))\n",
    "    Error_tzero.append(np.array(err_zero))\n",
    "    Max_error_thalf.append(max_err_thalf)\n",
    "    Max_error_tone.append(max_err_tone)\n",
    "    Max_error_tzero.append(max_err_tzero)\n"
   ]
  },
  {
   "cell_type": "markdown",
   "metadata": {},
   "source": [
    "<font color = blue> Below are some plots of the solutions for different values of theta and n as well as the exact solution. The solutions for all given values of theta and n have been calculated above making it easy to plot different solutions by making small changes to the code. \n",
    "\n",
    "There are separate lists for all values of theta and different elements correspond to different n: index 0 equals n = 10, index 1 equals n = 20, index 2 equals n = 40 and index 3 equals n = 80. </font>"
   ]
  },
  {
   "cell_type": "code",
   "execution_count": null,
   "metadata": {
    "collapsed": true
   },
   "outputs": [],
   "source": [
    "%matplotlib notebook\n",
    "\n",
    "# Exact solution, n = 80\n",
    "ani = plot_2D_animation(Meshgrids_x[3], Meshgrids_y[3], Exact_solutions[3], title='', duration=10, zlim=(-1,1))"
   ]
  },
  {
   "cell_type": "code",
   "execution_count": null,
   "metadata": {
    "collapsed": true
   },
   "outputs": [],
   "source": [
    "%matplotlib notebook\n",
    "\n",
    "# n = 40, theta = 0\n",
    "ani = plot_2D_animation(Meshgrids_x[3], Meshgrids_y[3], Numerical_solutions_tzero[3], title='', duration=10, zlim=(-1,1))"
   ]
  },
  {
   "cell_type": "code",
   "execution_count": null,
   "metadata": {
    "collapsed": true
   },
   "outputs": [],
   "source": [
    "%matplotlib notebook\n",
    "\n",
    "#n = 10, theta = 0.5\n",
    "ani = plot_2D_animation(Meshgrids_x[0], Meshgrids_y[0], Numerical_solutions_thalf[0], title='', duration=10, zlim=(-1,1))"
   ]
  },
  {
   "cell_type": "code",
   "execution_count": null,
   "metadata": {
    "collapsed": true
   },
   "outputs": [],
   "source": [
    "%matplotlib notebook\n",
    "\n",
    "# n = 40, theta = 0.5\n",
    "ani = plot_2D_animation(Meshgrids_x[2], Meshgrids_y[2], Numerical_solutions_thalf[2], title='', duration=10, zlim=(-1,1))"
   ]
  },
  {
   "cell_type": "code",
   "execution_count": null,
   "metadata": {
    "collapsed": true
   },
   "outputs": [],
   "source": [
    "%matplotlib notebook\n",
    "\n",
    "# n = 80, theta = 0.5\n",
    "ani = plot_2D_animation(Meshgrids_x[3], Meshgrids_y[3], Numerical_solutions_thalf[3], title='', duration=10, zlim=(-1,1))"
   ]
  },
  {
   "cell_type": "code",
   "execution_count": null,
   "metadata": {
    "collapsed": true
   },
   "outputs": [],
   "source": [
    "%matplotlib notebook\n",
    "\n",
    "# n = 40, theta = 1\n",
    "ani = plot_2D_animation(Meshgrids_x[2], Meshgrids_y[2], Numerical_solutions_tone[2], title='', duration=10, zlim=(-1,1))"
   ]
  },
  {
   "cell_type": "markdown",
   "metadata": {},
   "source": [
    "<font color = blue> Below we have plotted the error function for some values of theta and n. </font>"
   ]
  },
  {
   "cell_type": "code",
   "execution_count": null,
   "metadata": {
    "collapsed": true
   },
   "outputs": [],
   "source": [
    "%matplotlib notebook\n",
    "\n",
    "# n = 40, theta = 0\n",
    "ani = plot_2D_animation(Meshgrids_x[2], Meshgrids_y[2], Error_tzero[2], title='', duration=10, zlim=(-1,1))"
   ]
  },
  {
   "cell_type": "code",
   "execution_count": null,
   "metadata": {
    "collapsed": true
   },
   "outputs": [],
   "source": [
    "%matplotlib notebook\n",
    "\n",
    "# n = 40, theta = 0.5\n",
    "ani = plot_2D_animation(Meshgrids_x[2], Meshgrids_y[2], Error_thalf[2], title='', duration=10, zlim=(-1,1))"
   ]
  },
  {
   "cell_type": "code",
   "execution_count": null,
   "metadata": {
    "collapsed": true
   },
   "outputs": [],
   "source": [
    "%matplotlib notebook\n",
    "\n",
    "# n = 80, theta = 0.5\n",
    "ani = plot_2D_animation(Meshgrids_x[2], Meshgrids_y[2], Error_thalf[2], title='', duration=10, zlim=(-1,1))"
   ]
  },
  {
   "cell_type": "code",
   "execution_count": null,
   "metadata": {
    "collapsed": true
   },
   "outputs": [],
   "source": [
    "%matplotlib notebook\n",
    "\n",
    "# n = 40, theta = 1\n",
    "ani = plot_2D_animation(Meshgrids_x[2], Meshgrids_y[2], Error_tone[2], title='', duration=10, zlim=(-1,1))"
   ]
  },
  {
   "cell_type": "markdown",
   "metadata": {},
   "source": [
    "<font color = blue>\n",
    "    For $n\\geq 40$, theta = 0 clearly does not give a correct numerical solution. This is reflected in the plot of the error function as well. As we saw above in task 3, theta = 0 is unstable for certain values, so this is to be expected. As is dicussed in greater detail in task 5, the time step needs to be very small for the method to converge with theta = 0 and the limit is proportional to $h^2 \\sim 1/n^2$. As our $\\tau$ is proportional to $1/n$, the solution gets **less** precise for higher n as $\\tau$ is further away from the limit value. For this reason, the solutions for the lower values of n resemble the exact solution(at least within the given time-frame, they might diverge later on). \n",
    "\n",
    "For theta = 0.5 and theta = 1, the numerical solutions converges for all values of n. Higher number of n(and consequently smaller grid size and smaller corresponding time steps) give better results as is reflected in the plots of the corresponding errorfunctions. ((However, all numerical solutions found for these values of theta give qualitatively correct results.))\n",
    "\n",
    "\n",
    "\n",
    "ER DET EGT SÅ MYE MER Å SI? TAR JO Å DISKUTERER FEILEN MER I C\n",
    "   </font>"
   ]
  },
  {
   "cell_type": "markdown",
   "metadata": {},
   "source": [
    "<font color = blue>**c)** We use the total error for each theta as a function of n computed above and find the order of convergence for each theta: </font> \n"
   ]
  },
  {
   "cell_type": "code",
   "execution_count": null,
   "metadata": {
    "collapsed": true
   },
   "outputs": [],
   "source": [
    "\n",
    "#Caluculating EOC\n",
    "N_list = [10, 20, 40, 80]\n",
    "\n",
    "EOC_thalf = []\n",
    "EOC_tone = []\n",
    "EOC_tzero = []\n",
    "for i in range(1,len(Max_error_thalf)):\n",
    "    EOC_thalf.append((np.log(Max_error_thalf[i])-np.log(Max_error_thalf[i-1]))/(np.log(N_list[i-1])-np.log(N_list[i])))\n",
    "    EOC_tone.append((np.log(Max_error_tone[i])-np.log(Max_error_tone[i-1]))/(np.log(N_list[i-1])-np.log(N_list[i])))\n",
    "    EOC_tzero.append((np.log(Max_error_tzero[i])-np.log(Max_error_tzero[i-1]))/(np.log(N_list[i-1])-np.log(N_list[i])))\n",
    "    \n",
    "print(\"Theta = 0:\\n\", EOC_tzero)\n",
    "print(\"Theta = 0.5:\\n\", EOC_thalf)\n",
    "print(\"Theta = 1:\\n\", EOC_tone)"
   ]
  },
  {
   "cell_type": "markdown",
   "metadata": {},
   "source": [
    "<font color = blue>\n",
    "   For theta = 0, the values found for the convergence rates are seemingly random. The concept of an order of convergece is meaningless when the function does not converge. \n",
    "    \n",
    "For theta = 0 and theta = 1, the order of convergence is about 2, which correspond well with what we found in task **2c)**\n",
    "    </font>\n",
    "    \n",
    "    "
   ]
  },
  {
   "cell_type": "markdown",
   "metadata": {},
   "source": [
    "#### Task 5"
   ]
  },
  {
   "cell_type": "markdown",
   "metadata": {},
   "source": [
    "Finally,  we have a closer look at the so-called CFL (Courant-Friedrichs-Lewy) condition stating that in two space dimensions,\n",
    "the explicit Euler scheme given by $\\theta = 0$ needs to satisfy the __time-step restriction__\n",
    "$$\n",
    "\\tau \\leqslant h^2/4\n",
    "$$\n",
    "to render the full discretization scheme stable. This is related to __stiff systems__ and the concept of __$A$-stability__\n",
    "and the __stability function__.\n",
    "\n",
    "Now define $\\tau$ as follows\n",
    "$$\n",
    "\\tau = \\alpha h^2/4\n",
    "$$\n",
    "with  a safety factor $\\alpha$ and $h = 2\\pi/n$ for some $n\\in \\NN$.\n",
    "\n",
    "Choose $t_0 = 0$, $T=1$, $f = g_D = 0$ and\n",
    "use as initial data the step function\n",
    "\\begin{align*}\n",
    "u_0(x,y) = \n",
    "\\begin{cases}\n",
    "1 \\quad \\text{if } |x -  \\pi| < \\pi/3  \\wedge |y -  \\pi| < \\pi/3\n",
    "\\\\\n",
    "0 \\quad \\text{else.}\n",
    "\\end{cases}\n",
    "\\end{align*}\n",
    "\n",
    "__a__)\n",
    "Solve the heat equation using the explicit Euler for $n = 20$ and corresponding \n",
    "time-step $\\tau$ for $\\alpha = 0.9, 1, 1.1$. What do you observe?\n",
    "__b__\n",
    "Repeat the experiment setting the end time to $T = 20$ and\n",
    "$\\alpha = 0.99, 1, 1.01$.  Observation? (That should demonstrate the strictness of the CFL condition.)\n",
    "\n"
   ]
  },
  {
   "cell_type": "code",
   "execution_count": null,
   "metadata": {
    "collapsed": true
   },
   "outputs": [],
   "source": [
    "def u_0_step(x, y):\n",
    "    step = 0*np.ones_like(x)*np.ones_like(y)\n",
    "    def is_inside(x, y):\n",
    "        eps = 1e-10\n",
    "        return  np.abs(x - np.pi) < np.pi/3  and np.abs(y - np.pi) < np.pi/3\n",
    "\n",
    "    for i in range(x.shape[1]):\n",
    "        for j in range(y.shape[0]):\n",
    "            if is_inside(x[0,i], y[j,0]):\n",
    "                step[i,j] = 1\n",
    "    return step\n",
    "\n",
    "#Defing the constants\n",
    "L,n, t0, theta= 2*np.pi,20, 0, 0\n",
    "h = 2*np.pi/n\n",
    "alpha = [0.9,1,1.1,0.99, 1, 1.01]\n",
    "\n",
    "\n",
    "#Creating grid\n",
    "xi = np.linspace(0,L,n+1)\n",
    "yi = np.linspace(0,L,n+1)\n",
    "X,Y = np.meshgrid(xi,yi,sparse=True)\n",
    "U_0_grid = u_0_step(X,Y)\n",
    "\n",
    "\n",
    "#Calculating solutions\n",
    "#T = 1\n",
    "U_a1 = solveHeatEq(I, U_0_grid, f, f, theta,(alpha[0]*h**2)/4 , t0, 1, X, Y)\n",
    "U_a2 = solveHeatEq(I, U_0_grid, f, f, theta,(alpha[1]*h**2)/4 , t0, 1, X, Y)\n",
    "U_a3 = solveHeatEq(I, U_0_grid, f, f, theta,(alpha[2]*h**2)/4 , t0, 1, X, Y)\n",
    "# T = 20\n",
    "U_b1 = solveHeatEq(I, U_0_grid, f, f, theta,(alpha[3]*h**2)/4 , t0, 20, X, Y)\n",
    "U_b2 = solveHeatEq(I, U_0_grid, f, f, theta,(alpha[4]*h**2)/4 , t0, 20, X, Y)\n",
    "U_b3 = solveHeatEq(I, U_0_grid, f, f, theta,(alpha[5]*h**2)/4 , t0, 20, X, Y)"
   ]
  },
  {
   "cell_type": "code",
   "execution_count": null,
   "metadata": {
    "collapsed": true
   },
   "outputs": [],
   "source": [
    "#alpha = 0.9\n",
    "ani = plot_2D_animation(X, Y, U_a1, title='', duration=10, zlim=(-1,1))"
   ]
  },
  {
   "cell_type": "code",
   "execution_count": null,
   "metadata": {
    "collapsed": true
   },
   "outputs": [],
   "source": [
    "#alpha = 1\n",
    "ani = plot_2D_animation(X, Y, U_a2, title=r'$\\alpha=1', duration=10, zlim=(-1,1))"
   ]
  },
  {
   "cell_type": "code",
   "execution_count": null,
   "metadata": {
    "collapsed": true
   },
   "outputs": [],
   "source": [
    "#alpha = 1.1\n",
    "ani = plot_2D_animation(X, Y, U_a3, title='', duration=10, zlim=(-1,1))"
   ]
  },
  {
   "cell_type": "markdown",
   "metadata": {},
   "source": [
    "<font color = blue>We obeserve that the solution is nice and stable for $\\alpha = 0.9$ and $\\alpha= 1$, and that it diverges for $\\alpha = 1.1$ This is as expected from the time-step restriction. \n",
    "</font>"
   ]
  },
  {
   "cell_type": "code",
   "execution_count": null,
   "metadata": {
    "collapsed": true
   },
   "outputs": [],
   "source": [
    "#alpha = 0.99\n",
    "ani = plot_2D_animation(X, Y, U_b1, title='', duration=20, zlim=(-1,1))"
   ]
  },
  {
   "cell_type": "code",
   "execution_count": null,
   "metadata": {
    "collapsed": true
   },
   "outputs": [],
   "source": [
    "#alpha = 1\n",
    "ani = plot_2D_animation(X, Y, U_b2, title='', duration=10, zlim=(-1,1))"
   ]
  },
  {
   "cell_type": "code",
   "execution_count": null,
   "metadata": {
    "collapsed": true
   },
   "outputs": [],
   "source": [
    "#alpha = 1.01\n",
    "ani = plot_2D_animation(X, Y, U_b3, title='', duration=20, zlim=(-1,1))"
   ]
  },
  {
   "cell_type": "markdown",
   "metadata": {},
   "source": [
    "<font color = blue>The solution converges for $\\alpha = 0.99$ and $\\alpha = 1$, and diverges for $\\alpha = 1.01$. This is also as expected, and shows the strictness of the time-step restriction.  </font>"
   ]
  },
  {
   "cell_type": "code",
   "execution_count": null,
   "metadata": {
    "collapsed": true
   },
   "outputs": [],
   "source": []
  }
 ],
 "metadata": {
  "anaconda-cloud": {},
  "kernelspec": {
   "display_name": "Python 3",
   "language": "python",
   "name": "python3"
  },
  "language_info": {
   "codemirror_mode": {
    "name": "ipython",
    "version": 3
   },
   "file_extension": ".py",
   "mimetype": "text/x-python",
   "name": "python",
   "nbconvert_exporter": "python",
   "pygments_lexer": "ipython3",
   "version": "3.6.2"
  }
 },
 "nbformat": 4,
 "nbformat_minor": 1
}
